{
  "cells": [
    {
      "cell_type": "markdown",
      "metadata": {
        "id": "view-in-github",
        "colab_type": "text"
      },
      "source": [
        "<a href=\"https://colab.research.google.com/github/nikita1128/Cardiovascular-Risk-Prediction/blob/main/Cardiovascular_Risk_Prediction.ipynb\" target=\"_parent\"><img src=\"https://colab.research.google.com/assets/colab-badge.svg\" alt=\"Open In Colab\"/></a>"
      ]
    },
    {
      "cell_type": "markdown",
      "metadata": {
        "id": "EmOAElyst13i"
      },
      "source": [
        "#**Problem Statement:**\n",
        "\n",
        "The dataset is from an ongoing cardiovascular study on residents of the town of Framingham,\n",
        "Massachusetts. The classification goal is to predict whether the patient has a 10-year risk of\n",
        "future coronary heart disease (CHD). The dataset provides the patients’ information. It includes\n",
        "over 4,000 records and 15 attributes.\n",
        "Variables\n",
        "Each attribute is a potential risk factor. There are both demographic, behavioral, and medical risk\n",
        "factors.\n",
        "\n",
        "Data Description\n",
        "\n",
        "Demographic:\n",
        "\n",
        "• Sex: male or female(\"M\" or \"F\")\n",
        "\n",
        "• Age: Age of the patient;(Continuous - Although the recorded ages have been truncated to whole numbers, the concept of age is continuous)\n",
        "\n",
        "Behavioral\n",
        "\n",
        "• is_smoking: whether or not the patient is a current smoker (\"YES\" or \"NO\")\n",
        "\n",
        "• Cigs Per Day: the number of cigarettes that the person smoked on average in one day.(can be considered continuous as one can have any number of cigarettes, even half a cigarette.)\n",
        "\n",
        "Medical( history)\n",
        "\n",
        "• BP Meds: whether or not the patient was on blood pressure medication (Nominal)\n",
        "\n",
        "• Prevalent Stroke: whether or not the patient had previously had a stroke (Nominal)\n",
        "\n",
        "• Prevalent Hyp: whether or not the patient was hypertensive (Nominal)\n",
        "\n",
        "• Diabetes: whether or not the patient had diabetes (Nominal)\n",
        "Medical(current)\n",
        "\n",
        "• Tot Chol: total cholesterol level (Continuous)\n",
        "\n",
        "• Sys BP: systolic blood pressure (Continuous)\n",
        "\n",
        "• Dia BP: diastolic blood pressure (Continuous)\n",
        "\n",
        "• BMI: Body Mass Index (Continuous)\n",
        "\n",
        "• Heart Rate: heart rate (Continuous - In medical research, variables such as heart rate though in fact discrete, yet are considered continuous because of large number of possible values.)\n",
        "\n",
        "• Glucose: glucose level (Continuous)\n",
        "\n",
        "Predict variable (desired target)\n",
        "\n",
        "• 10-year risk of coronary heart disease CHD(binary: “1”, means “Yes”, “0” means “No”) -\n",
        "DV"
      ]
    },
    {
      "cell_type": "markdown",
      "metadata": {
        "id": "5iBbgYnPvxNu"
      },
      "source": [
        "#**Importing the required libraries**"
      ]
    },
    {
      "cell_type": "code",
      "execution_count": null,
      "metadata": {
        "id": "NyEWpoiiv1bX"
      },
      "outputs": [],
      "source": [
        "#Importing the required libraries\n",
        "\n",
        "#For data loading and numerical operations\n",
        "import pandas as pd\n",
        "import numpy as np\n",
        "\n",
        "#For data visualizations\n",
        "import matplotlib.pyplot as plt\n",
        "%matplotlib inline\n",
        "import seaborn as sns\n",
        "\n",
        "#For converting categorical variable into numerical\n",
        "from sklearn.preprocessing import LabelEncoder\n",
        "\n",
        "#For data preparation\n",
        "from imblearn.over_sampling import SMOTE\n",
        "\n",
        "#For data splitting\n",
        "from sklearn.model_selection import train_test_split\n",
        "\n",
        "#Data Feature Selection\n",
        "from sklearn.feature_selection import SelectKBest\n",
        "from sklearn.feature_selection import chi2\n",
        "\n",
        "#For data scaling\n",
        "from sklearn.preprocessing import MinMaxScaler\n",
        "\n",
        "#For scaling\n",
        "from sklearn.preprocessing import StandardScaler\n",
        "\n",
        "#For data modeling\n",
        "from sklearn.linear_model import LogisticRegression\n",
        "from sklearn.neighbors import KNeighborsClassifier\n",
        "from sklearn.tree import DecisionTreeClassifier\n",
        "from sklearn.ensemble import RandomForestClassifier\n",
        "from sklearn.ensemble import GradientBoostingClassifier\n",
        "from sklearn.ensemble import ExtraTreesClassifier\n",
        "from sklearn.svm import SVC\n",
        "from xgboost import XGBClassifier\n",
        "from sklearn.ensemble import StackingClassifier\n",
        "\n",
        "import time\n",
        "\n",
        "#For metrics evaluatioon\n",
        "from sklearn.metrics import confusion_matrix, accuracy_score, roc_curve, classification_report\n",
        "from sklearn.metrics import precision_score, recall_score, f1_score, roc_auc_score\n",
        "\n",
        "#For hyperparameter tuning\n",
        "from sklearn.model_selection import GridSearchCV\n",
        "\n",
        "from sklearn.base import clone\n",
        "\n",
        "#remove warnings\n",
        "import warnings\n",
        "warnings.filterwarnings(\"ignore\")\n"
      ]
    },
    {
      "cell_type": "markdown",
      "metadata": {
        "id": "v9Z-ZQ4cvOSH"
      },
      "source": [
        "# **Loading the data file**"
      ]
    },
    {
      "cell_type": "code",
      "execution_count": null,
      "metadata": {
        "id": "fdgeLZ4xwIDw",
        "colab": {
          "base_uri": "https://localhost:8080/"
        },
        "outputId": "36ba3b18-56dc-4ad8-a3ac-de7eda65a296"
      },
      "outputs": [
        {
          "output_type": "stream",
          "name": "stdout",
          "text": [
            "Drive already mounted at /content/drive; to attempt to forcibly remount, call drive.mount(\"/content/drive\", force_remount=True).\n"
          ]
        }
      ],
      "source": [
        "from google.colab import drive\n",
        "drive.mount('/content/drive')"
      ]
    },
    {
      "cell_type": "code",
      "execution_count": null,
      "metadata": {
        "id": "AAOA9uvKwBpX"
      },
      "outputs": [],
      "source": [
        "#loading the data file using read_csv()\n",
        "cardio_df = pd.read_csv(\"/content/drive/MyDrive/Alma/Pro/Capstone Project/Copy of data_cardiovascular_risk.csv\")"
      ]
    },
    {
      "cell_type": "markdown",
      "metadata": {
        "id": "eGCrFJYSvhqH"
      },
      "source": [
        "# **Exploratory Data Analysis**"
      ]
    },
    {
      "cell_type": "code",
      "execution_count": null,
      "metadata": {
        "id": "fJQM447xwfwA",
        "colab": {
          "base_uri": "https://localhost:8080/",
          "height": 250
        },
        "outputId": "443281b6-ceea-4ae2-8933-0c72d4cf6b2e"
      },
      "outputs": [
        {
          "output_type": "execute_result",
          "data": {
            "text/plain": [
              "   id  age  education sex is_smoking  cigsPerDay  BPMeds  prevalentStroke  \\\n",
              "0   0   64        2.0   F        YES         3.0     0.0                0   \n",
              "1   1   36        4.0   M         NO         0.0     0.0                0   \n",
              "2   2   46        1.0   F        YES        10.0     0.0                0   \n",
              "3   3   50        1.0   M        YES        20.0     0.0                0   \n",
              "4   4   64        1.0   F        YES        30.0     0.0                0   \n",
              "\n",
              "   prevalentHyp  diabetes  totChol  sysBP  diaBP    BMI  heartRate  glucose  \\\n",
              "0             0         0    221.0  148.0   85.0    NaN       90.0     80.0   \n",
              "1             1         0    212.0  168.0   98.0  29.77       72.0     75.0   \n",
              "2             0         0    250.0  116.0   71.0  20.35       88.0     94.0   \n",
              "3             1         0    233.0  158.0   88.0  28.26       68.0     94.0   \n",
              "4             0         0    241.0  136.5   85.0  26.42       70.0     77.0   \n",
              "\n",
              "   TenYearCHD  \n",
              "0           1  \n",
              "1           0  \n",
              "2           0  \n",
              "3           1  \n",
              "4           0  "
            ],
            "text/html": [
              "\n",
              "  <div id=\"df-a0771fb8-148d-468e-a7d2-8945437d6844\">\n",
              "    <div class=\"colab-df-container\">\n",
              "      <div>\n",
              "<style scoped>\n",
              "    .dataframe tbody tr th:only-of-type {\n",
              "        vertical-align: middle;\n",
              "    }\n",
              "\n",
              "    .dataframe tbody tr th {\n",
              "        vertical-align: top;\n",
              "    }\n",
              "\n",
              "    .dataframe thead th {\n",
              "        text-align: right;\n",
              "    }\n",
              "</style>\n",
              "<table border=\"1\" class=\"dataframe\">\n",
              "  <thead>\n",
              "    <tr style=\"text-align: right;\">\n",
              "      <th></th>\n",
              "      <th>id</th>\n",
              "      <th>age</th>\n",
              "      <th>education</th>\n",
              "      <th>sex</th>\n",
              "      <th>is_smoking</th>\n",
              "      <th>cigsPerDay</th>\n",
              "      <th>BPMeds</th>\n",
              "      <th>prevalentStroke</th>\n",
              "      <th>prevalentHyp</th>\n",
              "      <th>diabetes</th>\n",
              "      <th>totChol</th>\n",
              "      <th>sysBP</th>\n",
              "      <th>diaBP</th>\n",
              "      <th>BMI</th>\n",
              "      <th>heartRate</th>\n",
              "      <th>glucose</th>\n",
              "      <th>TenYearCHD</th>\n",
              "    </tr>\n",
              "  </thead>\n",
              "  <tbody>\n",
              "    <tr>\n",
              "      <th>0</th>\n",
              "      <td>0</td>\n",
              "      <td>64</td>\n",
              "      <td>2.0</td>\n",
              "      <td>F</td>\n",
              "      <td>YES</td>\n",
              "      <td>3.0</td>\n",
              "      <td>0.0</td>\n",
              "      <td>0</td>\n",
              "      <td>0</td>\n",
              "      <td>0</td>\n",
              "      <td>221.0</td>\n",
              "      <td>148.0</td>\n",
              "      <td>85.0</td>\n",
              "      <td>NaN</td>\n",
              "      <td>90.0</td>\n",
              "      <td>80.0</td>\n",
              "      <td>1</td>\n",
              "    </tr>\n",
              "    <tr>\n",
              "      <th>1</th>\n",
              "      <td>1</td>\n",
              "      <td>36</td>\n",
              "      <td>4.0</td>\n",
              "      <td>M</td>\n",
              "      <td>NO</td>\n",
              "      <td>0.0</td>\n",
              "      <td>0.0</td>\n",
              "      <td>0</td>\n",
              "      <td>1</td>\n",
              "      <td>0</td>\n",
              "      <td>212.0</td>\n",
              "      <td>168.0</td>\n",
              "      <td>98.0</td>\n",
              "      <td>29.77</td>\n",
              "      <td>72.0</td>\n",
              "      <td>75.0</td>\n",
              "      <td>0</td>\n",
              "    </tr>\n",
              "    <tr>\n",
              "      <th>2</th>\n",
              "      <td>2</td>\n",
              "      <td>46</td>\n",
              "      <td>1.0</td>\n",
              "      <td>F</td>\n",
              "      <td>YES</td>\n",
              "      <td>10.0</td>\n",
              "      <td>0.0</td>\n",
              "      <td>0</td>\n",
              "      <td>0</td>\n",
              "      <td>0</td>\n",
              "      <td>250.0</td>\n",
              "      <td>116.0</td>\n",
              "      <td>71.0</td>\n",
              "      <td>20.35</td>\n",
              "      <td>88.0</td>\n",
              "      <td>94.0</td>\n",
              "      <td>0</td>\n",
              "    </tr>\n",
              "    <tr>\n",
              "      <th>3</th>\n",
              "      <td>3</td>\n",
              "      <td>50</td>\n",
              "      <td>1.0</td>\n",
              "      <td>M</td>\n",
              "      <td>YES</td>\n",
              "      <td>20.0</td>\n",
              "      <td>0.0</td>\n",
              "      <td>0</td>\n",
              "      <td>1</td>\n",
              "      <td>0</td>\n",
              "      <td>233.0</td>\n",
              "      <td>158.0</td>\n",
              "      <td>88.0</td>\n",
              "      <td>28.26</td>\n",
              "      <td>68.0</td>\n",
              "      <td>94.0</td>\n",
              "      <td>1</td>\n",
              "    </tr>\n",
              "    <tr>\n",
              "      <th>4</th>\n",
              "      <td>4</td>\n",
              "      <td>64</td>\n",
              "      <td>1.0</td>\n",
              "      <td>F</td>\n",
              "      <td>YES</td>\n",
              "      <td>30.0</td>\n",
              "      <td>0.0</td>\n",
              "      <td>0</td>\n",
              "      <td>0</td>\n",
              "      <td>0</td>\n",
              "      <td>241.0</td>\n",
              "      <td>136.5</td>\n",
              "      <td>85.0</td>\n",
              "      <td>26.42</td>\n",
              "      <td>70.0</td>\n",
              "      <td>77.0</td>\n",
              "      <td>0</td>\n",
              "    </tr>\n",
              "  </tbody>\n",
              "</table>\n",
              "</div>\n",
              "      <button class=\"colab-df-convert\" onclick=\"convertToInteractive('df-a0771fb8-148d-468e-a7d2-8945437d6844')\"\n",
              "              title=\"Convert this dataframe to an interactive table.\"\n",
              "              style=\"display:none;\">\n",
              "        \n",
              "  <svg xmlns=\"http://www.w3.org/2000/svg\" height=\"24px\"viewBox=\"0 0 24 24\"\n",
              "       width=\"24px\">\n",
              "    <path d=\"M0 0h24v24H0V0z\" fill=\"none\"/>\n",
              "    <path d=\"M18.56 5.44l.94 2.06.94-2.06 2.06-.94-2.06-.94-.94-2.06-.94 2.06-2.06.94zm-11 1L8.5 8.5l.94-2.06 2.06-.94-2.06-.94L8.5 2.5l-.94 2.06-2.06.94zm10 10l.94 2.06.94-2.06 2.06-.94-2.06-.94-.94-2.06-.94 2.06-2.06.94z\"/><path d=\"M17.41 7.96l-1.37-1.37c-.4-.4-.92-.59-1.43-.59-.52 0-1.04.2-1.43.59L10.3 9.45l-7.72 7.72c-.78.78-.78 2.05 0 2.83L4 21.41c.39.39.9.59 1.41.59.51 0 1.02-.2 1.41-.59l7.78-7.78 2.81-2.81c.8-.78.8-2.07 0-2.86zM5.41 20L4 18.59l7.72-7.72 1.47 1.35L5.41 20z\"/>\n",
              "  </svg>\n",
              "      </button>\n",
              "      \n",
              "  <style>\n",
              "    .colab-df-container {\n",
              "      display:flex;\n",
              "      flex-wrap:wrap;\n",
              "      gap: 12px;\n",
              "    }\n",
              "\n",
              "    .colab-df-convert {\n",
              "      background-color: #E8F0FE;\n",
              "      border: none;\n",
              "      border-radius: 50%;\n",
              "      cursor: pointer;\n",
              "      display: none;\n",
              "      fill: #1967D2;\n",
              "      height: 32px;\n",
              "      padding: 0 0 0 0;\n",
              "      width: 32px;\n",
              "    }\n",
              "\n",
              "    .colab-df-convert:hover {\n",
              "      background-color: #E2EBFA;\n",
              "      box-shadow: 0px 1px 2px rgba(60, 64, 67, 0.3), 0px 1px 3px 1px rgba(60, 64, 67, 0.15);\n",
              "      fill: #174EA6;\n",
              "    }\n",
              "\n",
              "    [theme=dark] .colab-df-convert {\n",
              "      background-color: #3B4455;\n",
              "      fill: #D2E3FC;\n",
              "    }\n",
              "\n",
              "    [theme=dark] .colab-df-convert:hover {\n",
              "      background-color: #434B5C;\n",
              "      box-shadow: 0px 1px 3px 1px rgba(0, 0, 0, 0.15);\n",
              "      filter: drop-shadow(0px 1px 2px rgba(0, 0, 0, 0.3));\n",
              "      fill: #FFFFFF;\n",
              "    }\n",
              "  </style>\n",
              "\n",
              "      <script>\n",
              "        const buttonEl =\n",
              "          document.querySelector('#df-a0771fb8-148d-468e-a7d2-8945437d6844 button.colab-df-convert');\n",
              "        buttonEl.style.display =\n",
              "          google.colab.kernel.accessAllowed ? 'block' : 'none';\n",
              "\n",
              "        async function convertToInteractive(key) {\n",
              "          const element = document.querySelector('#df-a0771fb8-148d-468e-a7d2-8945437d6844');\n",
              "          const dataTable =\n",
              "            await google.colab.kernel.invokeFunction('convertToInteractive',\n",
              "                                                     [key], {});\n",
              "          if (!dataTable) return;\n",
              "\n",
              "          const docLinkHtml = 'Like what you see? Visit the ' +\n",
              "            '<a target=\"_blank\" href=https://colab.research.google.com/notebooks/data_table.ipynb>data table notebook</a>'\n",
              "            + ' to learn more about interactive tables.';\n",
              "          element.innerHTML = '';\n",
              "          dataTable['output_type'] = 'display_data';\n",
              "          await google.colab.output.renderOutput(dataTable, element);\n",
              "          const docLink = document.createElement('div');\n",
              "          docLink.innerHTML = docLinkHtml;\n",
              "          element.appendChild(docLink);\n",
              "        }\n",
              "      </script>\n",
              "    </div>\n",
              "  </div>\n",
              "  "
            ]
          },
          "metadata": {},
          "execution_count": 98
        }
      ],
      "source": [
        "#Displays the first five rows of the dataset\n",
        "cardio_df.head()"
      ]
    },
    {
      "cell_type": "code",
      "execution_count": null,
      "metadata": {
        "id": "3vxnTWC_vxVf",
        "colab": {
          "base_uri": "https://localhost:8080/",
          "height": 270
        },
        "outputId": "856af075-fa0c-4e60-dcaa-04e9e1548ef9"
      },
      "outputs": [
        {
          "output_type": "execute_result",
          "data": {
            "text/plain": [
              "        id  age  education sex is_smoking  cigsPerDay  BPMeds  \\\n",
              "3385  3385   60        1.0   F         NO         0.0     0.0   \n",
              "3386  3386   46        1.0   F         NO         0.0     0.0   \n",
              "3387  3387   44        3.0   M        YES         3.0     0.0   \n",
              "3388  3388   60        1.0   M         NO         0.0     NaN   \n",
              "3389  3389   54        3.0   F         NO         0.0     0.0   \n",
              "\n",
              "      prevalentStroke  prevalentHyp  diabetes  totChol  sysBP  diaBP    BMI  \\\n",
              "3385                0             0         0    261.0  123.5   79.0  29.28   \n",
              "3386                0             0         0    199.0  102.0   56.0  21.96   \n",
              "3387                0             1         0    352.0  164.0  119.0  28.92   \n",
              "3388                0             1         0    191.0  167.0  105.0  23.01   \n",
              "3389                0             0         0    288.0  124.0   77.0  29.88   \n",
              "\n",
              "      heartRate  glucose  TenYearCHD  \n",
              "3385       70.0    103.0           0  \n",
              "3386       80.0     84.0           0  \n",
              "3387       73.0     72.0           1  \n",
              "3388       80.0     85.0           0  \n",
              "3389       79.0     92.0           0  "
            ],
            "text/html": [
              "\n",
              "  <div id=\"df-b7566369-3fed-4118-bb21-ac4ad8c228a4\">\n",
              "    <div class=\"colab-df-container\">\n",
              "      <div>\n",
              "<style scoped>\n",
              "    .dataframe tbody tr th:only-of-type {\n",
              "        vertical-align: middle;\n",
              "    }\n",
              "\n",
              "    .dataframe tbody tr th {\n",
              "        vertical-align: top;\n",
              "    }\n",
              "\n",
              "    .dataframe thead th {\n",
              "        text-align: right;\n",
              "    }\n",
              "</style>\n",
              "<table border=\"1\" class=\"dataframe\">\n",
              "  <thead>\n",
              "    <tr style=\"text-align: right;\">\n",
              "      <th></th>\n",
              "      <th>id</th>\n",
              "      <th>age</th>\n",
              "      <th>education</th>\n",
              "      <th>sex</th>\n",
              "      <th>is_smoking</th>\n",
              "      <th>cigsPerDay</th>\n",
              "      <th>BPMeds</th>\n",
              "      <th>prevalentStroke</th>\n",
              "      <th>prevalentHyp</th>\n",
              "      <th>diabetes</th>\n",
              "      <th>totChol</th>\n",
              "      <th>sysBP</th>\n",
              "      <th>diaBP</th>\n",
              "      <th>BMI</th>\n",
              "      <th>heartRate</th>\n",
              "      <th>glucose</th>\n",
              "      <th>TenYearCHD</th>\n",
              "    </tr>\n",
              "  </thead>\n",
              "  <tbody>\n",
              "    <tr>\n",
              "      <th>3385</th>\n",
              "      <td>3385</td>\n",
              "      <td>60</td>\n",
              "      <td>1.0</td>\n",
              "      <td>F</td>\n",
              "      <td>NO</td>\n",
              "      <td>0.0</td>\n",
              "      <td>0.0</td>\n",
              "      <td>0</td>\n",
              "      <td>0</td>\n",
              "      <td>0</td>\n",
              "      <td>261.0</td>\n",
              "      <td>123.5</td>\n",
              "      <td>79.0</td>\n",
              "      <td>29.28</td>\n",
              "      <td>70.0</td>\n",
              "      <td>103.0</td>\n",
              "      <td>0</td>\n",
              "    </tr>\n",
              "    <tr>\n",
              "      <th>3386</th>\n",
              "      <td>3386</td>\n",
              "      <td>46</td>\n",
              "      <td>1.0</td>\n",
              "      <td>F</td>\n",
              "      <td>NO</td>\n",
              "      <td>0.0</td>\n",
              "      <td>0.0</td>\n",
              "      <td>0</td>\n",
              "      <td>0</td>\n",
              "      <td>0</td>\n",
              "      <td>199.0</td>\n",
              "      <td>102.0</td>\n",
              "      <td>56.0</td>\n",
              "      <td>21.96</td>\n",
              "      <td>80.0</td>\n",
              "      <td>84.0</td>\n",
              "      <td>0</td>\n",
              "    </tr>\n",
              "    <tr>\n",
              "      <th>3387</th>\n",
              "      <td>3387</td>\n",
              "      <td>44</td>\n",
              "      <td>3.0</td>\n",
              "      <td>M</td>\n",
              "      <td>YES</td>\n",
              "      <td>3.0</td>\n",
              "      <td>0.0</td>\n",
              "      <td>0</td>\n",
              "      <td>1</td>\n",
              "      <td>0</td>\n",
              "      <td>352.0</td>\n",
              "      <td>164.0</td>\n",
              "      <td>119.0</td>\n",
              "      <td>28.92</td>\n",
              "      <td>73.0</td>\n",
              "      <td>72.0</td>\n",
              "      <td>1</td>\n",
              "    </tr>\n",
              "    <tr>\n",
              "      <th>3388</th>\n",
              "      <td>3388</td>\n",
              "      <td>60</td>\n",
              "      <td>1.0</td>\n",
              "      <td>M</td>\n",
              "      <td>NO</td>\n",
              "      <td>0.0</td>\n",
              "      <td>NaN</td>\n",
              "      <td>0</td>\n",
              "      <td>1</td>\n",
              "      <td>0</td>\n",
              "      <td>191.0</td>\n",
              "      <td>167.0</td>\n",
              "      <td>105.0</td>\n",
              "      <td>23.01</td>\n",
              "      <td>80.0</td>\n",
              "      <td>85.0</td>\n",
              "      <td>0</td>\n",
              "    </tr>\n",
              "    <tr>\n",
              "      <th>3389</th>\n",
              "      <td>3389</td>\n",
              "      <td>54</td>\n",
              "      <td>3.0</td>\n",
              "      <td>F</td>\n",
              "      <td>NO</td>\n",
              "      <td>0.0</td>\n",
              "      <td>0.0</td>\n",
              "      <td>0</td>\n",
              "      <td>0</td>\n",
              "      <td>0</td>\n",
              "      <td>288.0</td>\n",
              "      <td>124.0</td>\n",
              "      <td>77.0</td>\n",
              "      <td>29.88</td>\n",
              "      <td>79.0</td>\n",
              "      <td>92.0</td>\n",
              "      <td>0</td>\n",
              "    </tr>\n",
              "  </tbody>\n",
              "</table>\n",
              "</div>\n",
              "      <button class=\"colab-df-convert\" onclick=\"convertToInteractive('df-b7566369-3fed-4118-bb21-ac4ad8c228a4')\"\n",
              "              title=\"Convert this dataframe to an interactive table.\"\n",
              "              style=\"display:none;\">\n",
              "        \n",
              "  <svg xmlns=\"http://www.w3.org/2000/svg\" height=\"24px\"viewBox=\"0 0 24 24\"\n",
              "       width=\"24px\">\n",
              "    <path d=\"M0 0h24v24H0V0z\" fill=\"none\"/>\n",
              "    <path d=\"M18.56 5.44l.94 2.06.94-2.06 2.06-.94-2.06-.94-.94-2.06-.94 2.06-2.06.94zm-11 1L8.5 8.5l.94-2.06 2.06-.94-2.06-.94L8.5 2.5l-.94 2.06-2.06.94zm10 10l.94 2.06.94-2.06 2.06-.94-2.06-.94-.94-2.06-.94 2.06-2.06.94z\"/><path d=\"M17.41 7.96l-1.37-1.37c-.4-.4-.92-.59-1.43-.59-.52 0-1.04.2-1.43.59L10.3 9.45l-7.72 7.72c-.78.78-.78 2.05 0 2.83L4 21.41c.39.39.9.59 1.41.59.51 0 1.02-.2 1.41-.59l7.78-7.78 2.81-2.81c.8-.78.8-2.07 0-2.86zM5.41 20L4 18.59l7.72-7.72 1.47 1.35L5.41 20z\"/>\n",
              "  </svg>\n",
              "      </button>\n",
              "      \n",
              "  <style>\n",
              "    .colab-df-container {\n",
              "      display:flex;\n",
              "      flex-wrap:wrap;\n",
              "      gap: 12px;\n",
              "    }\n",
              "\n",
              "    .colab-df-convert {\n",
              "      background-color: #E8F0FE;\n",
              "      border: none;\n",
              "      border-radius: 50%;\n",
              "      cursor: pointer;\n",
              "      display: none;\n",
              "      fill: #1967D2;\n",
              "      height: 32px;\n",
              "      padding: 0 0 0 0;\n",
              "      width: 32px;\n",
              "    }\n",
              "\n",
              "    .colab-df-convert:hover {\n",
              "      background-color: #E2EBFA;\n",
              "      box-shadow: 0px 1px 2px rgba(60, 64, 67, 0.3), 0px 1px 3px 1px rgba(60, 64, 67, 0.15);\n",
              "      fill: #174EA6;\n",
              "    }\n",
              "\n",
              "    [theme=dark] .colab-df-convert {\n",
              "      background-color: #3B4455;\n",
              "      fill: #D2E3FC;\n",
              "    }\n",
              "\n",
              "    [theme=dark] .colab-df-convert:hover {\n",
              "      background-color: #434B5C;\n",
              "      box-shadow: 0px 1px 3px 1px rgba(0, 0, 0, 0.15);\n",
              "      filter: drop-shadow(0px 1px 2px rgba(0, 0, 0, 0.3));\n",
              "      fill: #FFFFFF;\n",
              "    }\n",
              "  </style>\n",
              "\n",
              "      <script>\n",
              "        const buttonEl =\n",
              "          document.querySelector('#df-b7566369-3fed-4118-bb21-ac4ad8c228a4 button.colab-df-convert');\n",
              "        buttonEl.style.display =\n",
              "          google.colab.kernel.accessAllowed ? 'block' : 'none';\n",
              "\n",
              "        async function convertToInteractive(key) {\n",
              "          const element = document.querySelector('#df-b7566369-3fed-4118-bb21-ac4ad8c228a4');\n",
              "          const dataTable =\n",
              "            await google.colab.kernel.invokeFunction('convertToInteractive',\n",
              "                                                     [key], {});\n",
              "          if (!dataTable) return;\n",
              "\n",
              "          const docLinkHtml = 'Like what you see? Visit the ' +\n",
              "            '<a target=\"_blank\" href=https://colab.research.google.com/notebooks/data_table.ipynb>data table notebook</a>'\n",
              "            + ' to learn more about interactive tables.';\n",
              "          element.innerHTML = '';\n",
              "          dataTable['output_type'] = 'display_data';\n",
              "          await google.colab.output.renderOutput(dataTable, element);\n",
              "          const docLink = document.createElement('div');\n",
              "          docLink.innerHTML = docLinkHtml;\n",
              "          element.appendChild(docLink);\n",
              "        }\n",
              "      </script>\n",
              "    </div>\n",
              "  </div>\n",
              "  "
            ]
          },
          "metadata": {},
          "execution_count": 99
        }
      ],
      "source": [
        "#Displays the last five rows of the dataset\n",
        "cardio_df.tail()"
      ]
    },
    {
      "cell_type": "code",
      "execution_count": null,
      "metadata": {
        "id": "A7TfqJTrwHhQ",
        "colab": {
          "base_uri": "https://localhost:8080/"
        },
        "outputId": "9585b2e5-7143-4a4b-dbd2-f05e4834ca8d"
      },
      "outputs": [
        {
          "output_type": "execute_result",
          "data": {
            "text/plain": [
              "(3390, 17)"
            ]
          },
          "metadata": {},
          "execution_count": 100
        }
      ],
      "source": [
        "#shape of the dataset\n",
        "cardio_df.shape"
      ]
    },
    {
      "cell_type": "code",
      "execution_count": null,
      "metadata": {
        "id": "RZbcPllBwLg7",
        "colab": {
          "base_uri": "https://localhost:8080/"
        },
        "outputId": "9dc01d57-daa0-4b1e-9aa7-6ea8a8c99884"
      },
      "outputs": [
        {
          "output_type": "stream",
          "name": "stdout",
          "text": [
            "Rows    :  3390\n",
            "Columns :  17\n"
          ]
        }
      ],
      "source": [
        "#Printing the rows and columns of a dataset\n",
        "print (\"Rows    : \" ,cardio_df.shape[0])\n",
        "print (\"Columns : \" ,cardio_df.shape[1])"
      ]
    },
    {
      "cell_type": "code",
      "source": [
        "#Printing the list of columns(features) in dataframe\n",
        "print(\"Features: \\n\" ,cardio_df.columns.tolist())"
      ],
      "metadata": {
        "id": "qLsvwno8FhD6",
        "colab": {
          "base_uri": "https://localhost:8080/"
        },
        "outputId": "946a1b6a-774a-45c3-eb81-b49f0975b75e"
      },
      "execution_count": null,
      "outputs": [
        {
          "output_type": "stream",
          "name": "stdout",
          "text": [
            "Features: \n",
            " ['id', 'age', 'education', 'sex', 'is_smoking', 'cigsPerDay', 'BPMeds', 'prevalentStroke', 'prevalentHyp', 'diabetes', 'totChol', 'sysBP', 'diaBP', 'BMI', 'heartRate', 'glucose', 'TenYearCHD']\n"
          ]
        }
      ]
    },
    {
      "cell_type": "code",
      "execution_count": null,
      "metadata": {
        "id": "a0t3wm2MzIKk",
        "colab": {
          "base_uri": "https://localhost:8080/"
        },
        "outputId": "5b093234-217c-43e1-e4f7-b6beea580c2c"
      },
      "outputs": [
        {
          "output_type": "stream",
          "name": "stdout",
          "text": [
            "<class 'pandas.core.frame.DataFrame'>\n",
            "RangeIndex: 3390 entries, 0 to 3389\n",
            "Data columns (total 17 columns):\n",
            " #   Column           Non-Null Count  Dtype  \n",
            "---  ------           --------------  -----  \n",
            " 0   id               3390 non-null   int64  \n",
            " 1   age              3390 non-null   int64  \n",
            " 2   education        3303 non-null   float64\n",
            " 3   sex              3390 non-null   object \n",
            " 4   is_smoking       3390 non-null   object \n",
            " 5   cigsPerDay       3368 non-null   float64\n",
            " 6   BPMeds           3346 non-null   float64\n",
            " 7   prevalentStroke  3390 non-null   int64  \n",
            " 8   prevalentHyp     3390 non-null   int64  \n",
            " 9   diabetes         3390 non-null   int64  \n",
            " 10  totChol          3352 non-null   float64\n",
            " 11  sysBP            3390 non-null   float64\n",
            " 12  diaBP            3390 non-null   float64\n",
            " 13  BMI              3376 non-null   float64\n",
            " 14  heartRate        3389 non-null   float64\n",
            " 15  glucose          3086 non-null   float64\n",
            " 16  TenYearCHD       3390 non-null   int64  \n",
            "dtypes: float64(9), int64(6), object(2)\n",
            "memory usage: 450.4+ KB\n"
          ]
        }
      ],
      "source": [
        "#getting information about the dataset using info() method\n",
        "cardio_df.info()"
      ]
    },
    {
      "cell_type": "markdown",
      "metadata": {
        "id": "cBMuST8litmO"
      },
      "source": [
        "#**Variable Breakdown**"
      ]
    },
    {
      "cell_type": "markdown",
      "metadata": {
        "id": "teePMU2PivAo"
      },
      "source": [
        "**id:**\tPatient identification number\n",
        "\n",
        "####***Demographic:***\n",
        "\n",
        "**age:** Age of the patient;(Continuous - Although the recorded ages have been truncated to whole numbers, the concept of age is continuous)\n",
        "\n",
        "**education:** no further information provided\n",
        "\n",
        "**sex:** male or female(Nominal)\n",
        "\n",
        "####***Behavioral:***\n",
        "\n",
        "**is_smoking:** whether or not the patient is a current smoker (Nominal)\n",
        "\n",
        "**cigsPerDay:** the number of cigarettes that the person smoked on average in one day.(can be considered continuous as one can have any number of cigarettes, even half a cigarette.)\n",
        "\n",
        "####***Information on medical history:***\n",
        "\n",
        "**BPMeds:** whether or not the patient was on blood pressure medication (Nominal)\n",
        "\n",
        "**prevalentStroke:** whether or not the patient had previously had a stroke (Nominal)\n",
        "\n",
        "**prevalentHyp:** whether or not the patient was hypertensive (Nominal)\n",
        "\n",
        "**diabetes:** whether or not the patient had diabetes (Nominal)\n",
        "\n",
        "####***Information on current medical condition:***\n",
        "\n",
        "**totChol:** total cholesterol level (Continuous)\n",
        "\n",
        "**sysBP:** systolic blood pressure (Continuous)\n",
        "\n",
        "**diaBP:** diastolic blood pressure (Continuous)\n",
        "\n",
        "**BMI:** Body Mass Index (Continuous)\n",
        "\n",
        "**heartRate :** heart rate (Continuous - In medical research, variables such as heart rate though in fact discrete, yet are considered continuous because of large number of possible values.)\n",
        "\n",
        "**glucose:** glucose level (Continuous)\n",
        "\n",
        "####***Target variable to predict:***\n",
        "\n",
        "**TenYearCHD:** 10 year risk of coronary heart disease (CHD),binary variable where “1” means Yes and “0” means No."
      ]
    },
    {
      "cell_type": "markdown",
      "metadata": {
        "id": "hdRnv5Pow6OQ"
      },
      "source": [
        "#**Handling missing values**"
      ]
    },
    {
      "cell_type": "code",
      "execution_count": null,
      "metadata": {
        "id": "cSlCElZbwrFx",
        "colab": {
          "base_uri": "https://localhost:8080/"
        },
        "outputId": "56f6b5d3-2d98-405e-b5b6-3d6b942c94dc"
      },
      "outputs": [
        {
          "output_type": "execute_result",
          "data": {
            "text/plain": [
              "id                   0\n",
              "age                  0\n",
              "education           87\n",
              "sex                  0\n",
              "is_smoking           0\n",
              "cigsPerDay          22\n",
              "BPMeds              44\n",
              "prevalentStroke      0\n",
              "prevalentHyp         0\n",
              "diabetes             0\n",
              "totChol             38\n",
              "sysBP                0\n",
              "diaBP                0\n",
              "BMI                 14\n",
              "heartRate            1\n",
              "glucose            304\n",
              "TenYearCHD           0\n",
              "dtype: int64"
            ]
          },
          "metadata": {},
          "execution_count": 104
        }
      ],
      "source": [
        "#checking null values\n",
        "cardio_df.isnull().sum()"
      ]
    },
    {
      "cell_type": "code",
      "execution_count": null,
      "metadata": {
        "id": "AlUjhG0AwzFO",
        "colab": {
          "base_uri": "https://localhost:8080/"
        },
        "outputId": "05d0e456-7c49-4172-a192-a35192c1d3d6"
      },
      "outputs": [
        {
          "output_type": "stream",
          "name": "stdout",
          "text": [
            "Missing values :   510\n"
          ]
        }
      ],
      "source": [
        "#Printing number of null(missing) values\n",
        "print(\"Missing values :  \", cardio_df.isnull().sum().values.sum())"
      ]
    },
    {
      "cell_type": "code",
      "execution_count": null,
      "metadata": {
        "id": "GFFnnt6NBnsH",
        "colab": {
          "base_uri": "https://localhost:8080/"
        },
        "outputId": "a204786b-bedc-4a02-83e4-e742e28e81c3"
      },
      "outputs": [
        {
          "output_type": "execute_result",
          "data": {
            "text/plain": [
              "id                 0.00\n",
              "age                0.00\n",
              "education          2.57\n",
              "sex                0.00\n",
              "is_smoking         0.00\n",
              "cigsPerDay         0.65\n",
              "BPMeds             1.30\n",
              "prevalentStroke    0.00\n",
              "prevalentHyp       0.00\n",
              "diabetes           0.00\n",
              "totChol            1.12\n",
              "sysBP              0.00\n",
              "diaBP              0.00\n",
              "BMI                0.41\n",
              "heartRate          0.03\n",
              "glucose            8.97\n",
              "TenYearCHD         0.00\n",
              "dtype: float64"
            ]
          },
          "metadata": {},
          "execution_count": 106
        }
      ],
      "source": [
        "#calculating the missing percentage of features in the dataset\n",
        "percent_missing = (cardio_df.isnull().sum()/len(cardio_df)) * 100 \n",
        "percent_missing.round(2)"
      ]
    },
    {
      "cell_type": "markdown",
      "metadata": {
        "id": "PemNMWNaxk90"
      },
      "source": [
        "Inference:\n",
        "\n",
        "From above we can see that there are 510 null/missing value in our dataframe. Numer of null/missing values with their respective percentages are as follows: \n",
        "\n",
        "*   education : 87 with 2.57%\n",
        "*   cigsPerDay : 22 with 0.65%\n",
        "*   BPMeds : 44 with 1.3%\n",
        "*   totChol : 38 with 1.12%\n",
        "*   BMI : 14 with 0.41%\n",
        "*   heartRate : 1 with 0.03%\n",
        "*   glucose : 304 with 8.97%\n",
        "\n",
        "As the missing percentages are low, we will be dropping null values from these columns except 'glucose' column."
      ]
    },
    {
      "cell_type": "code",
      "execution_count": null,
      "metadata": {
        "id": "2MdyVzioF2LQ",
        "colab": {
          "base_uri": "https://localhost:8080/"
        },
        "outputId": "c824a084-04ad-438a-bc45-3a2aded00b69"
      },
      "outputs": [
        {
          "output_type": "execute_result",
          "data": {
            "text/plain": [
              "0"
            ]
          },
          "metadata": {},
          "execution_count": 107
        }
      ],
      "source": [
        "#checking duplicate values\n",
        "cardio_df.duplicated().sum()"
      ]
    },
    {
      "cell_type": "markdown",
      "metadata": {
        "id": "fiksiOEiGZ39"
      },
      "source": [
        "#### From above we can see that there are no duplicate values in our dataset."
      ]
    },
    {
      "cell_type": "code",
      "execution_count": null,
      "metadata": {
        "id": "jnKbBpRPHRMD"
      },
      "outputs": [],
      "source": [
        "#Replacing the null/missing values of \"glucose\" column with the mode of the data to reduce the number of null/missing values.\n",
        "cardio_df[\"glucose\"].fillna(cardio_df[\"glucose\"].mode()[0], inplace = True)"
      ]
    },
    {
      "cell_type": "code",
      "execution_count": null,
      "metadata": {
        "id": "9D00h8U1KjHn",
        "colab": {
          "base_uri": "https://localhost:8080/"
        },
        "outputId": "07a6b2a1-fa2a-416f-f87c-48cc473f1a5c"
      },
      "outputs": [
        {
          "output_type": "stream",
          "name": "stdout",
          "text": [
            "<class 'pandas.core.frame.DataFrame'>\n",
            "Int64Index: 3272 entries, 1 to 3389\n",
            "Data columns (total 15 columns):\n",
            " #   Column           Non-Null Count  Dtype  \n",
            "---  ------           --------------  -----  \n",
            " 0   age              3272 non-null   int64  \n",
            " 1   sex              3272 non-null   object \n",
            " 2   is_smoking       3272 non-null   object \n",
            " 3   cigsPerDay       3272 non-null   float64\n",
            " 4   BPMeds           3272 non-null   float64\n",
            " 5   prevalentStroke  3272 non-null   int64  \n",
            " 6   prevalentHyp     3272 non-null   int64  \n",
            " 7   diabetes         3272 non-null   int64  \n",
            " 8   totChol          3272 non-null   float64\n",
            " 9   sysBP            3272 non-null   float64\n",
            " 10  diaBP            3272 non-null   float64\n",
            " 11  BMI              3272 non-null   float64\n",
            " 12  heartRate        3272 non-null   float64\n",
            " 13  glucose          3272 non-null   float64\n",
            " 14  TenYearCHD       3272 non-null   int64  \n",
            "dtypes: float64(8), int64(5), object(2)\n",
            "memory usage: 409.0+ KB\n"
          ]
        }
      ],
      "source": [
        "#Making copy of original dataset to do further analysis\n",
        "cardio_data = cardio_df.copy()\n",
        "\n",
        "#Dropping irrelevant columns\n",
        "cardio_data.drop([\"id\", \"education\"], axis = 1, inplace = True)\n",
        "\n",
        "#Dropping all other rows having null/missing values\n",
        "cardio_data.dropna(inplace = True)\n",
        "cardio_data.info()"
      ]
    },
    {
      "cell_type": "code",
      "execution_count": null,
      "metadata": {
        "id": "JN27-HKzNGcW",
        "colab": {
          "base_uri": "https://localhost:8080/"
        },
        "outputId": "e740795e-8bb4-4333-8926-d54657b56a38"
      },
      "outputs": [
        {
          "output_type": "stream",
          "name": "stdout",
          "text": [
            "Unique values :\n",
            " age                  39\n",
            "sex                   2\n",
            "is_smoking            2\n",
            "cigsPerDay           32\n",
            "BPMeds                2\n",
            "prevalentStroke       2\n",
            "prevalentHyp          2\n",
            "diabetes              2\n",
            "totChol             236\n",
            "sysBP               224\n",
            "diaBP               141\n",
            "BMI                1242\n",
            "heartRate            68\n",
            "glucose             130\n",
            "TenYearCHD            2\n",
            "dtype: int64\n"
          ]
        }
      ],
      "source": [
        "#Checking for the unique values in each column\n",
        "print(\"Unique values :\\n\",cardio_data.nunique())"
      ]
    },
    {
      "cell_type": "code",
      "execution_count": null,
      "metadata": {
        "id": "uVHVpop-QzBD",
        "colab": {
          "base_uri": "https://localhost:8080/"
        },
        "outputId": "2c59d113-213d-4900-f8ab-d11a8c738ff5"
      },
      "outputs": [
        {
          "output_type": "stream",
          "name": "stdout",
          "text": [
            "Unique values in sex column:  ['M' 'F']\n",
            "Unique values in is_smoking column:  ['NO' 'YES']\n",
            "Unique values in BPMeds column:  [0. 1.]\n",
            "Unique values in prevalentStroke column:  [0 1]\n",
            "Unique values in prevalentHyp column:  [1 0]\n",
            "Unique values in diabetes column:  [0 1]\n",
            "Unique values in TenYearCHD column:  [0 1]\n"
          ]
        }
      ],
      "source": [
        "#Printing unique values\n",
        "for col in ['sex', 'is_smoking', 'BPMeds', 'prevalentStroke', 'prevalentHyp', 'diabetes', 'TenYearCHD']:\n",
        "    print(f\"Unique values in {col} column: \", cardio_data[col].unique())"
      ]
    },
    {
      "cell_type": "markdown",
      "metadata": {
        "id": "gMLW3fui_Foq"
      },
      "source": [
        "###**Converting categorical variables into numerical values using Label Encoder**"
      ]
    },
    {
      "cell_type": "code",
      "execution_count": null,
      "metadata": {
        "id": "zXvDv-hv-rF7",
        "colab": {
          "base_uri": "https://localhost:8080/",
          "height": 206
        },
        "outputId": "747dbbd5-873b-4322-f55e-e9f6a9d430c2"
      },
      "outputs": [
        {
          "output_type": "execute_result",
          "data": {
            "text/plain": [
              "   age  sex  is_smoking  cigsPerDay  BPMeds  prevalentStroke  prevalentHyp  \\\n",
              "1   36    1           0         0.0     0.0                0             1   \n",
              "2   46    0           1        10.0     0.0                0             0   \n",
              "3   50    1           1        20.0     0.0                0             1   \n",
              "4   64    0           1        30.0     0.0                0             0   \n",
              "5   61    0           0         0.0     0.0                0             1   \n",
              "\n",
              "   diabetes  totChol  sysBP  diaBP    BMI  heartRate  glucose  TenYearCHD  \n",
              "1         0    212.0  168.0   98.0  29.77       72.0     75.0           0  \n",
              "2         0    250.0  116.0   71.0  20.35       88.0     94.0           0  \n",
              "3         0    233.0  158.0   88.0  28.26       68.0     94.0           1  \n",
              "4         0    241.0  136.5   85.0  26.42       70.0     77.0           0  \n",
              "5         0    272.0  182.0  121.0  32.80       85.0     65.0           1  "
            ],
            "text/html": [
              "\n",
              "  <div id=\"df-48f695b8-0556-461c-a55b-159d55b85840\">\n",
              "    <div class=\"colab-df-container\">\n",
              "      <div>\n",
              "<style scoped>\n",
              "    .dataframe tbody tr th:only-of-type {\n",
              "        vertical-align: middle;\n",
              "    }\n",
              "\n",
              "    .dataframe tbody tr th {\n",
              "        vertical-align: top;\n",
              "    }\n",
              "\n",
              "    .dataframe thead th {\n",
              "        text-align: right;\n",
              "    }\n",
              "</style>\n",
              "<table border=\"1\" class=\"dataframe\">\n",
              "  <thead>\n",
              "    <tr style=\"text-align: right;\">\n",
              "      <th></th>\n",
              "      <th>age</th>\n",
              "      <th>sex</th>\n",
              "      <th>is_smoking</th>\n",
              "      <th>cigsPerDay</th>\n",
              "      <th>BPMeds</th>\n",
              "      <th>prevalentStroke</th>\n",
              "      <th>prevalentHyp</th>\n",
              "      <th>diabetes</th>\n",
              "      <th>totChol</th>\n",
              "      <th>sysBP</th>\n",
              "      <th>diaBP</th>\n",
              "      <th>BMI</th>\n",
              "      <th>heartRate</th>\n",
              "      <th>glucose</th>\n",
              "      <th>TenYearCHD</th>\n",
              "    </tr>\n",
              "  </thead>\n",
              "  <tbody>\n",
              "    <tr>\n",
              "      <th>1</th>\n",
              "      <td>36</td>\n",
              "      <td>1</td>\n",
              "      <td>0</td>\n",
              "      <td>0.0</td>\n",
              "      <td>0.0</td>\n",
              "      <td>0</td>\n",
              "      <td>1</td>\n",
              "      <td>0</td>\n",
              "      <td>212.0</td>\n",
              "      <td>168.0</td>\n",
              "      <td>98.0</td>\n",
              "      <td>29.77</td>\n",
              "      <td>72.0</td>\n",
              "      <td>75.0</td>\n",
              "      <td>0</td>\n",
              "    </tr>\n",
              "    <tr>\n",
              "      <th>2</th>\n",
              "      <td>46</td>\n",
              "      <td>0</td>\n",
              "      <td>1</td>\n",
              "      <td>10.0</td>\n",
              "      <td>0.0</td>\n",
              "      <td>0</td>\n",
              "      <td>0</td>\n",
              "      <td>0</td>\n",
              "      <td>250.0</td>\n",
              "      <td>116.0</td>\n",
              "      <td>71.0</td>\n",
              "      <td>20.35</td>\n",
              "      <td>88.0</td>\n",
              "      <td>94.0</td>\n",
              "      <td>0</td>\n",
              "    </tr>\n",
              "    <tr>\n",
              "      <th>3</th>\n",
              "      <td>50</td>\n",
              "      <td>1</td>\n",
              "      <td>1</td>\n",
              "      <td>20.0</td>\n",
              "      <td>0.0</td>\n",
              "      <td>0</td>\n",
              "      <td>1</td>\n",
              "      <td>0</td>\n",
              "      <td>233.0</td>\n",
              "      <td>158.0</td>\n",
              "      <td>88.0</td>\n",
              "      <td>28.26</td>\n",
              "      <td>68.0</td>\n",
              "      <td>94.0</td>\n",
              "      <td>1</td>\n",
              "    </tr>\n",
              "    <tr>\n",
              "      <th>4</th>\n",
              "      <td>64</td>\n",
              "      <td>0</td>\n",
              "      <td>1</td>\n",
              "      <td>30.0</td>\n",
              "      <td>0.0</td>\n",
              "      <td>0</td>\n",
              "      <td>0</td>\n",
              "      <td>0</td>\n",
              "      <td>241.0</td>\n",
              "      <td>136.5</td>\n",
              "      <td>85.0</td>\n",
              "      <td>26.42</td>\n",
              "      <td>70.0</td>\n",
              "      <td>77.0</td>\n",
              "      <td>0</td>\n",
              "    </tr>\n",
              "    <tr>\n",
              "      <th>5</th>\n",
              "      <td>61</td>\n",
              "      <td>0</td>\n",
              "      <td>0</td>\n",
              "      <td>0.0</td>\n",
              "      <td>0.0</td>\n",
              "      <td>0</td>\n",
              "      <td>1</td>\n",
              "      <td>0</td>\n",
              "      <td>272.0</td>\n",
              "      <td>182.0</td>\n",
              "      <td>121.0</td>\n",
              "      <td>32.80</td>\n",
              "      <td>85.0</td>\n",
              "      <td>65.0</td>\n",
              "      <td>1</td>\n",
              "    </tr>\n",
              "  </tbody>\n",
              "</table>\n",
              "</div>\n",
              "      <button class=\"colab-df-convert\" onclick=\"convertToInteractive('df-48f695b8-0556-461c-a55b-159d55b85840')\"\n",
              "              title=\"Convert this dataframe to an interactive table.\"\n",
              "              style=\"display:none;\">\n",
              "        \n",
              "  <svg xmlns=\"http://www.w3.org/2000/svg\" height=\"24px\"viewBox=\"0 0 24 24\"\n",
              "       width=\"24px\">\n",
              "    <path d=\"M0 0h24v24H0V0z\" fill=\"none\"/>\n",
              "    <path d=\"M18.56 5.44l.94 2.06.94-2.06 2.06-.94-2.06-.94-.94-2.06-.94 2.06-2.06.94zm-11 1L8.5 8.5l.94-2.06 2.06-.94-2.06-.94L8.5 2.5l-.94 2.06-2.06.94zm10 10l.94 2.06.94-2.06 2.06-.94-2.06-.94-.94-2.06-.94 2.06-2.06.94z\"/><path d=\"M17.41 7.96l-1.37-1.37c-.4-.4-.92-.59-1.43-.59-.52 0-1.04.2-1.43.59L10.3 9.45l-7.72 7.72c-.78.78-.78 2.05 0 2.83L4 21.41c.39.39.9.59 1.41.59.51 0 1.02-.2 1.41-.59l7.78-7.78 2.81-2.81c.8-.78.8-2.07 0-2.86zM5.41 20L4 18.59l7.72-7.72 1.47 1.35L5.41 20z\"/>\n",
              "  </svg>\n",
              "      </button>\n",
              "      \n",
              "  <style>\n",
              "    .colab-df-container {\n",
              "      display:flex;\n",
              "      flex-wrap:wrap;\n",
              "      gap: 12px;\n",
              "    }\n",
              "\n",
              "    .colab-df-convert {\n",
              "      background-color: #E8F0FE;\n",
              "      border: none;\n",
              "      border-radius: 50%;\n",
              "      cursor: pointer;\n",
              "      display: none;\n",
              "      fill: #1967D2;\n",
              "      height: 32px;\n",
              "      padding: 0 0 0 0;\n",
              "      width: 32px;\n",
              "    }\n",
              "\n",
              "    .colab-df-convert:hover {\n",
              "      background-color: #E2EBFA;\n",
              "      box-shadow: 0px 1px 2px rgba(60, 64, 67, 0.3), 0px 1px 3px 1px rgba(60, 64, 67, 0.15);\n",
              "      fill: #174EA6;\n",
              "    }\n",
              "\n",
              "    [theme=dark] .colab-df-convert {\n",
              "      background-color: #3B4455;\n",
              "      fill: #D2E3FC;\n",
              "    }\n",
              "\n",
              "    [theme=dark] .colab-df-convert:hover {\n",
              "      background-color: #434B5C;\n",
              "      box-shadow: 0px 1px 3px 1px rgba(0, 0, 0, 0.15);\n",
              "      filter: drop-shadow(0px 1px 2px rgba(0, 0, 0, 0.3));\n",
              "      fill: #FFFFFF;\n",
              "    }\n",
              "  </style>\n",
              "\n",
              "      <script>\n",
              "        const buttonEl =\n",
              "          document.querySelector('#df-48f695b8-0556-461c-a55b-159d55b85840 button.colab-df-convert');\n",
              "        buttonEl.style.display =\n",
              "          google.colab.kernel.accessAllowed ? 'block' : 'none';\n",
              "\n",
              "        async function convertToInteractive(key) {\n",
              "          const element = document.querySelector('#df-48f695b8-0556-461c-a55b-159d55b85840');\n",
              "          const dataTable =\n",
              "            await google.colab.kernel.invokeFunction('convertToInteractive',\n",
              "                                                     [key], {});\n",
              "          if (!dataTable) return;\n",
              "\n",
              "          const docLinkHtml = 'Like what you see? Visit the ' +\n",
              "            '<a target=\"_blank\" href=https://colab.research.google.com/notebooks/data_table.ipynb>data table notebook</a>'\n",
              "            + ' to learn more about interactive tables.';\n",
              "          element.innerHTML = '';\n",
              "          dataTable['output_type'] = 'display_data';\n",
              "          await google.colab.output.renderOutput(dataTable, element);\n",
              "          const docLink = document.createElement('div');\n",
              "          docLink.innerHTML = docLinkHtml;\n",
              "          element.appendChild(docLink);\n",
              "        }\n",
              "      </script>\n",
              "    </div>\n",
              "  </div>\n",
              "  "
            ]
          },
          "metadata": {},
          "execution_count": 112
        }
      ],
      "source": [
        "#label_encoder object knows how to understand word labels.\n",
        "label_encoder = LabelEncoder()\n",
        "\n",
        "#Assiging categorical variables\n",
        "cat_col = ['sex','is_smoking']\n",
        "\n",
        "#Converting categorical variables into numerical\n",
        "cardio_data[cat_col] = cardio_data[cat_col].apply(label_encoder.fit_transform)\n",
        "cardio_data.head()"
      ]
    },
    {
      "cell_type": "markdown",
      "metadata": {
        "id": "gWCnDwGeES2f"
      },
      "source": [
        "#**Descriptive Statistics**"
      ]
    },
    {
      "cell_type": "code",
      "execution_count": null,
      "metadata": {
        "id": "Wei3feHpD-Fv",
        "colab": {
          "base_uri": "https://localhost:8080/",
          "height": 520
        },
        "outputId": "16d5e1d8-19c5-4dfd-ecf3-09c642202d7e"
      },
      "outputs": [
        {
          "output_type": "execute_result",
          "data": {
            "text/plain": [
              "                  count        mean        std     min     25%     50%  \\\n",
              "age              3272.0   49.442237   8.559199   32.00   42.00   49.00   \n",
              "sex              3272.0    0.438570   0.496288    0.00    0.00    0.00   \n",
              "is_smoking       3272.0    0.493276   0.500031    0.00    0.00    0.00   \n",
              "cigsPerDay       3272.0    9.054095  11.866441    0.00    0.00    0.00   \n",
              "BPMeds           3272.0    0.029645   0.169633    0.00    0.00    0.00   \n",
              "prevalentStroke  3272.0    0.005807   0.075993    0.00    0.00    0.00   \n",
              "prevalentHyp     3272.0    0.313264   0.463892    0.00    0.00    0.00   \n",
              "diabetes         3272.0    0.025672   0.158180    0.00    0.00    0.00   \n",
              "totChol          3272.0  237.036675  45.114324  113.00  206.00  234.00   \n",
              "sysBP            3272.0  132.409077  22.123491   83.50  117.00  128.00   \n",
              "diaBP            3272.0   82.864456  11.952790   48.00   74.50   82.00   \n",
              "BMI              3272.0   25.800339   4.123262   15.96   23.01   25.39   \n",
              "heartRate        3272.0   75.955990  12.024657   45.00   68.00   75.00   \n",
              "glucose          3272.0   81.420232  23.195784   40.00   72.00   77.00   \n",
              "TenYearCHD       3272.0    0.149144   0.356285    0.00    0.00    0.00   \n",
              "\n",
              "                     75%    max  \n",
              "age               56.000   70.0  \n",
              "sex                1.000    1.0  \n",
              "is_smoking         1.000    1.0  \n",
              "cigsPerDay        20.000   70.0  \n",
              "BPMeds             0.000    1.0  \n",
              "prevalentStroke    0.000    1.0  \n",
              "prevalentHyp       1.000    1.0  \n",
              "diabetes           0.000    1.0  \n",
              "totChol          264.000  696.0  \n",
              "sysBP            143.625  295.0  \n",
              "diaBP             90.000  142.5  \n",
              "BMI               28.040   56.8  \n",
              "heartRate         83.000  143.0  \n",
              "glucose           85.000  394.0  \n",
              "TenYearCHD         0.000    1.0  "
            ],
            "text/html": [
              "\n",
              "  <div id=\"df-b678568a-57ec-4d1b-9b46-5e71dead28fc\">\n",
              "    <div class=\"colab-df-container\">\n",
              "      <div>\n",
              "<style scoped>\n",
              "    .dataframe tbody tr th:only-of-type {\n",
              "        vertical-align: middle;\n",
              "    }\n",
              "\n",
              "    .dataframe tbody tr th {\n",
              "        vertical-align: top;\n",
              "    }\n",
              "\n",
              "    .dataframe thead th {\n",
              "        text-align: right;\n",
              "    }\n",
              "</style>\n",
              "<table border=\"1\" class=\"dataframe\">\n",
              "  <thead>\n",
              "    <tr style=\"text-align: right;\">\n",
              "      <th></th>\n",
              "      <th>count</th>\n",
              "      <th>mean</th>\n",
              "      <th>std</th>\n",
              "      <th>min</th>\n",
              "      <th>25%</th>\n",
              "      <th>50%</th>\n",
              "      <th>75%</th>\n",
              "      <th>max</th>\n",
              "    </tr>\n",
              "  </thead>\n",
              "  <tbody>\n",
              "    <tr>\n",
              "      <th>age</th>\n",
              "      <td>3272.0</td>\n",
              "      <td>49.442237</td>\n",
              "      <td>8.559199</td>\n",
              "      <td>32.00</td>\n",
              "      <td>42.00</td>\n",
              "      <td>49.00</td>\n",
              "      <td>56.000</td>\n",
              "      <td>70.0</td>\n",
              "    </tr>\n",
              "    <tr>\n",
              "      <th>sex</th>\n",
              "      <td>3272.0</td>\n",
              "      <td>0.438570</td>\n",
              "      <td>0.496288</td>\n",
              "      <td>0.00</td>\n",
              "      <td>0.00</td>\n",
              "      <td>0.00</td>\n",
              "      <td>1.000</td>\n",
              "      <td>1.0</td>\n",
              "    </tr>\n",
              "    <tr>\n",
              "      <th>is_smoking</th>\n",
              "      <td>3272.0</td>\n",
              "      <td>0.493276</td>\n",
              "      <td>0.500031</td>\n",
              "      <td>0.00</td>\n",
              "      <td>0.00</td>\n",
              "      <td>0.00</td>\n",
              "      <td>1.000</td>\n",
              "      <td>1.0</td>\n",
              "    </tr>\n",
              "    <tr>\n",
              "      <th>cigsPerDay</th>\n",
              "      <td>3272.0</td>\n",
              "      <td>9.054095</td>\n",
              "      <td>11.866441</td>\n",
              "      <td>0.00</td>\n",
              "      <td>0.00</td>\n",
              "      <td>0.00</td>\n",
              "      <td>20.000</td>\n",
              "      <td>70.0</td>\n",
              "    </tr>\n",
              "    <tr>\n",
              "      <th>BPMeds</th>\n",
              "      <td>3272.0</td>\n",
              "      <td>0.029645</td>\n",
              "      <td>0.169633</td>\n",
              "      <td>0.00</td>\n",
              "      <td>0.00</td>\n",
              "      <td>0.00</td>\n",
              "      <td>0.000</td>\n",
              "      <td>1.0</td>\n",
              "    </tr>\n",
              "    <tr>\n",
              "      <th>prevalentStroke</th>\n",
              "      <td>3272.0</td>\n",
              "      <td>0.005807</td>\n",
              "      <td>0.075993</td>\n",
              "      <td>0.00</td>\n",
              "      <td>0.00</td>\n",
              "      <td>0.00</td>\n",
              "      <td>0.000</td>\n",
              "      <td>1.0</td>\n",
              "    </tr>\n",
              "    <tr>\n",
              "      <th>prevalentHyp</th>\n",
              "      <td>3272.0</td>\n",
              "      <td>0.313264</td>\n",
              "      <td>0.463892</td>\n",
              "      <td>0.00</td>\n",
              "      <td>0.00</td>\n",
              "      <td>0.00</td>\n",
              "      <td>1.000</td>\n",
              "      <td>1.0</td>\n",
              "    </tr>\n",
              "    <tr>\n",
              "      <th>diabetes</th>\n",
              "      <td>3272.0</td>\n",
              "      <td>0.025672</td>\n",
              "      <td>0.158180</td>\n",
              "      <td>0.00</td>\n",
              "      <td>0.00</td>\n",
              "      <td>0.00</td>\n",
              "      <td>0.000</td>\n",
              "      <td>1.0</td>\n",
              "    </tr>\n",
              "    <tr>\n",
              "      <th>totChol</th>\n",
              "      <td>3272.0</td>\n",
              "      <td>237.036675</td>\n",
              "      <td>45.114324</td>\n",
              "      <td>113.00</td>\n",
              "      <td>206.00</td>\n",
              "      <td>234.00</td>\n",
              "      <td>264.000</td>\n",
              "      <td>696.0</td>\n",
              "    </tr>\n",
              "    <tr>\n",
              "      <th>sysBP</th>\n",
              "      <td>3272.0</td>\n",
              "      <td>132.409077</td>\n",
              "      <td>22.123491</td>\n",
              "      <td>83.50</td>\n",
              "      <td>117.00</td>\n",
              "      <td>128.00</td>\n",
              "      <td>143.625</td>\n",
              "      <td>295.0</td>\n",
              "    </tr>\n",
              "    <tr>\n",
              "      <th>diaBP</th>\n",
              "      <td>3272.0</td>\n",
              "      <td>82.864456</td>\n",
              "      <td>11.952790</td>\n",
              "      <td>48.00</td>\n",
              "      <td>74.50</td>\n",
              "      <td>82.00</td>\n",
              "      <td>90.000</td>\n",
              "      <td>142.5</td>\n",
              "    </tr>\n",
              "    <tr>\n",
              "      <th>BMI</th>\n",
              "      <td>3272.0</td>\n",
              "      <td>25.800339</td>\n",
              "      <td>4.123262</td>\n",
              "      <td>15.96</td>\n",
              "      <td>23.01</td>\n",
              "      <td>25.39</td>\n",
              "      <td>28.040</td>\n",
              "      <td>56.8</td>\n",
              "    </tr>\n",
              "    <tr>\n",
              "      <th>heartRate</th>\n",
              "      <td>3272.0</td>\n",
              "      <td>75.955990</td>\n",
              "      <td>12.024657</td>\n",
              "      <td>45.00</td>\n",
              "      <td>68.00</td>\n",
              "      <td>75.00</td>\n",
              "      <td>83.000</td>\n",
              "      <td>143.0</td>\n",
              "    </tr>\n",
              "    <tr>\n",
              "      <th>glucose</th>\n",
              "      <td>3272.0</td>\n",
              "      <td>81.420232</td>\n",
              "      <td>23.195784</td>\n",
              "      <td>40.00</td>\n",
              "      <td>72.00</td>\n",
              "      <td>77.00</td>\n",
              "      <td>85.000</td>\n",
              "      <td>394.0</td>\n",
              "    </tr>\n",
              "    <tr>\n",
              "      <th>TenYearCHD</th>\n",
              "      <td>3272.0</td>\n",
              "      <td>0.149144</td>\n",
              "      <td>0.356285</td>\n",
              "      <td>0.00</td>\n",
              "      <td>0.00</td>\n",
              "      <td>0.00</td>\n",
              "      <td>0.000</td>\n",
              "      <td>1.0</td>\n",
              "    </tr>\n",
              "  </tbody>\n",
              "</table>\n",
              "</div>\n",
              "      <button class=\"colab-df-convert\" onclick=\"convertToInteractive('df-b678568a-57ec-4d1b-9b46-5e71dead28fc')\"\n",
              "              title=\"Convert this dataframe to an interactive table.\"\n",
              "              style=\"display:none;\">\n",
              "        \n",
              "  <svg xmlns=\"http://www.w3.org/2000/svg\" height=\"24px\"viewBox=\"0 0 24 24\"\n",
              "       width=\"24px\">\n",
              "    <path d=\"M0 0h24v24H0V0z\" fill=\"none\"/>\n",
              "    <path d=\"M18.56 5.44l.94 2.06.94-2.06 2.06-.94-2.06-.94-.94-2.06-.94 2.06-2.06.94zm-11 1L8.5 8.5l.94-2.06 2.06-.94-2.06-.94L8.5 2.5l-.94 2.06-2.06.94zm10 10l.94 2.06.94-2.06 2.06-.94-2.06-.94-.94-2.06-.94 2.06-2.06.94z\"/><path d=\"M17.41 7.96l-1.37-1.37c-.4-.4-.92-.59-1.43-.59-.52 0-1.04.2-1.43.59L10.3 9.45l-7.72 7.72c-.78.78-.78 2.05 0 2.83L4 21.41c.39.39.9.59 1.41.59.51 0 1.02-.2 1.41-.59l7.78-7.78 2.81-2.81c.8-.78.8-2.07 0-2.86zM5.41 20L4 18.59l7.72-7.72 1.47 1.35L5.41 20z\"/>\n",
              "  </svg>\n",
              "      </button>\n",
              "      \n",
              "  <style>\n",
              "    .colab-df-container {\n",
              "      display:flex;\n",
              "      flex-wrap:wrap;\n",
              "      gap: 12px;\n",
              "    }\n",
              "\n",
              "    .colab-df-convert {\n",
              "      background-color: #E8F0FE;\n",
              "      border: none;\n",
              "      border-radius: 50%;\n",
              "      cursor: pointer;\n",
              "      display: none;\n",
              "      fill: #1967D2;\n",
              "      height: 32px;\n",
              "      padding: 0 0 0 0;\n",
              "      width: 32px;\n",
              "    }\n",
              "\n",
              "    .colab-df-convert:hover {\n",
              "      background-color: #E2EBFA;\n",
              "      box-shadow: 0px 1px 2px rgba(60, 64, 67, 0.3), 0px 1px 3px 1px rgba(60, 64, 67, 0.15);\n",
              "      fill: #174EA6;\n",
              "    }\n",
              "\n",
              "    [theme=dark] .colab-df-convert {\n",
              "      background-color: #3B4455;\n",
              "      fill: #D2E3FC;\n",
              "    }\n",
              "\n",
              "    [theme=dark] .colab-df-convert:hover {\n",
              "      background-color: #434B5C;\n",
              "      box-shadow: 0px 1px 3px 1px rgba(0, 0, 0, 0.15);\n",
              "      filter: drop-shadow(0px 1px 2px rgba(0, 0, 0, 0.3));\n",
              "      fill: #FFFFFF;\n",
              "    }\n",
              "  </style>\n",
              "\n",
              "      <script>\n",
              "        const buttonEl =\n",
              "          document.querySelector('#df-b678568a-57ec-4d1b-9b46-5e71dead28fc button.colab-df-convert');\n",
              "        buttonEl.style.display =\n",
              "          google.colab.kernel.accessAllowed ? 'block' : 'none';\n",
              "\n",
              "        async function convertToInteractive(key) {\n",
              "          const element = document.querySelector('#df-b678568a-57ec-4d1b-9b46-5e71dead28fc');\n",
              "          const dataTable =\n",
              "            await google.colab.kernel.invokeFunction('convertToInteractive',\n",
              "                                                     [key], {});\n",
              "          if (!dataTable) return;\n",
              "\n",
              "          const docLinkHtml = 'Like what you see? Visit the ' +\n",
              "            '<a target=\"_blank\" href=https://colab.research.google.com/notebooks/data_table.ipynb>data table notebook</a>'\n",
              "            + ' to learn more about interactive tables.';\n",
              "          element.innerHTML = '';\n",
              "          dataTable['output_type'] = 'display_data';\n",
              "          await google.colab.output.renderOutput(dataTable, element);\n",
              "          const docLink = document.createElement('div');\n",
              "          docLink.innerHTML = docLinkHtml;\n",
              "          element.appendChild(docLink);\n",
              "        }\n",
              "      </script>\n",
              "    </div>\n",
              "  </div>\n",
              "  "
            ]
          },
          "metadata": {},
          "execution_count": 113
        }
      ],
      "source": [
        "#Using describe() function to generate descriptive statistics of the data\n",
        "cardio_data.describe().T"
      ]
    },
    {
      "cell_type": "markdown",
      "metadata": {
        "id": "JFYuznfAEf0M"
      },
      "source": [
        "Inference:\n",
        "\n",
        "1. As the categorical data of the dataset were already converted into discrete numerical values therefore they are also included in descriptive statistics.\n",
        "2. Age of the patients in this dataset ranges from 32 to 70.\n",
        "3. Only 25% of patients in the given dataset are consuming cigarettes on an average of at least 20 cigarettes per day.\n",
        "4. The average total cholesterol level of the patients in this dataset is 237.03.\n",
        "5. The minimum and maximum systolic blood pressure of the patients are 83.5 and 295, respectively.\n",
        "6. The minimum and maximum diastolic blood pressure of the patients are 48 and 142.5, respectively.\n",
        "7. The minimum and maximum body mass index of the patients are 15.96 and 56.8, respectively.\n",
        "8. The average heart rate of the patients in this dataset is 75.95.\n",
        "9. The average glucose level of the patients in this dataset is 81.42.\n"
      ]
    },
    {
      "cell_type": "markdown",
      "metadata": {
        "id": "qGrglvFjNNu3"
      },
      "source": [
        "# **Checking the 10-year risk of coronary heart disease (CHD)**"
      ]
    },
    {
      "cell_type": "code",
      "execution_count": null,
      "metadata": {
        "id": "nOngHsM7OuFq",
        "colab": {
          "base_uri": "https://localhost:8080/",
          "height": 375
        },
        "outputId": "9d99e0cf-c74b-41bd-8388-1deea5948398"
      },
      "outputs": [
        {
          "output_type": "display_data",
          "data": {
            "text/plain": [
              "<Figure size 432x432 with 1 Axes>"
            ],
            "image/png": "[encoded data removed]"
          },
          "metadata": {}
        }
      ],
      "source": [
        "#setting figure size\n",
        "fig = plt.figure(figsize=(6,6))\n",
        "\n",
        "#defining Seaborn color palette\n",
        "colors = sns.color_palette('Paired')\n",
        "\n",
        "#Creating labels for the pie chart\n",
        "labels = \"No\", \"Yes\"\n",
        "\n",
        "#create pie chart\n",
        "plt.pie(cardio_data['TenYearCHD'].value_counts(), labels = labels, colors = colors, autopct='%.0f%%')\n",
        "\n",
        "#To display title of the pie chart\n",
        "plt.title(\"10-year risk of coronary heart disease CHD\", fontsize= 15)\n",
        "plt.show()"
      ]
    },
    {
      "cell_type": "code",
      "execution_count": null,
      "metadata": {
        "id": "KYdzJmGnc2eW",
        "colab": {
          "base_uri": "https://localhost:8080/",
          "height": 415
        },
        "outputId": "69e70db3-8663-4d61-9c3c-efef3d641866"
      },
      "outputs": [
        {
          "output_type": "display_data",
          "data": {
            "text/plain": [
              "<Figure size 576x432 with 1 Axes>"
            ],
            "image/png": "[encoded data removed]"
          },
          "metadata": {
            "needs_background": "light"
          }
        }
      ],
      "source": [
        "#Bar chart to display target variable\n",
        "cardio_data['TenYearCHD'].value_counts().plot(kind='bar', colormap = 'Paired_r', figsize=(8, 6))\n",
        "\n",
        "#To display the x label, y label and title of the bar chart\n",
        "plt.xlabel(\"Count\", labelpad=14, fontsize = 12)\n",
        "plt.ylabel(\"TenYearCHD\", labelpad=14, fontsize = 12)\n",
        "plt.title(\"10-year risk of coronary heart disease CHD\", fontsize = 15)\n",
        "plt.show()"
      ]
    },
    {
      "cell_type": "code",
      "execution_count": null,
      "metadata": {
        "id": "OMyuQ7aMPFJQ",
        "colab": {
          "base_uri": "https://localhost:8080/"
        },
        "outputId": "9cbc59da-9da0-4073-ada5-7c8c7b5a3f10"
      },
      "outputs": [
        {
          "output_type": "execute_result",
          "data": {
            "text/plain": [
              "0    2784\n",
              "1     488\n",
              "Name: TenYearCHD, dtype: int64"
            ]
          },
          "metadata": {},
          "execution_count": 116
        }
      ],
      "source": [
        "#Checking the value count of our target variable\n",
        "cardio_data['TenYearCHD'].value_counts()"
      ]
    },
    {
      "cell_type": "markdown",
      "metadata": {
        "id": "OMNspTqJPJcN"
      },
      "source": [
        "Inference:\n",
        "\n",
        "1. From above observation, we can conclude that our dataset is not balanced i.e. Yes is 488 (~15%) and No is 2784 ( ~86%). \n",
        "2. So we will analyze the data with other features while taking the target values separately to get some insights.\n",
        "3. Analysis shows that ten year risk of coronary heart disease(CHD) of patients in the given dataset is 15% where the number of negative cases outweighs the number of positive cases leading to a class imbalance problem while fitting our models.Therefore, this problem needs to be addressed and taken care of."
      ]
    },
    {
      "cell_type": "markdown",
      "metadata": {
        "id": "sRbEletlxtaL"
      },
      "source": [
        "#**10-year risk of CHD according to categorical variables**"
      ]
    },
    {
      "cell_type": "code",
      "execution_count": null,
      "metadata": {
        "id": "bXhfzsG9PrxU"
      },
      "outputs": [],
      "source": [
        "#creating the list of categorical variables for visualization\n",
        "cat_variables = ['sex', 'is_smoking', 'BPMeds', 'prevalentStroke', 'prevalentHyp', 'diabetes']"
      ]
    },
    {
      "cell_type": "code",
      "execution_count": null,
      "metadata": {
        "colab": {
          "base_uri": "https://localhost:8080/",
          "height": 586
        },
        "id": "zN8gUAYfPqw8",
        "outputId": "887da93d-c43a-44f9-c120-d07469097e6f"
      },
      "outputs": [
        {
          "output_type": "display_data",
          "data": {
            "text/plain": [
              "<Figure size 1584x720 with 6 Axes>"
            ],
            "image/png": "[encoded data removed]"
          },
          "metadata": {
            "needs_background": "light"
          }
        }
      ],
      "source": [
        "#setting up the visualization for plotting categorical variables\n",
        "row, col = 2, 3\n",
        "f, ax = plt.subplots(row, col, figsize = (22, 10))\n",
        "\n",
        "#count plot to display target variable according to categorical variables\n",
        "for i, var in enumerate(cat_variables):\n",
        "    row = i//col\n",
        "    pos = i % col \n",
        "    viz = sns.countplot(data = cardio_data, x = var, hue = 'TenYearCHD', palette = \"magma\", ax = ax[row][pos])\n",
        "\n",
        "plt.show()"
      ]
    },
    {
      "cell_type": "markdown",
      "metadata": {
        "id": "kUDYvJNPLhig"
      },
      "source": [
        "Inference:\n",
        "1. From above count plots, we can observe that BPmeds, prevalentStroke and diabetes are highly imbalanced.\n",
        "2. The number of females not affected by CHD is more than the number of males.\n",
        "3. The number of current smokers and non-smokers is almost the same.\n",
        "4. Non-hypertensive patients not affected by CHD are more than hypertensive patients.\n",
        "\n",
        "According to my hypothesis:\n",
        "1. Female patients are less prone to the 10-year risk of future coronary heart disease (CHD).\n",
        "2. Patients taking blood pressure medication are having low risk of CHD as compared to those who are not taking medication."
      ]
    },
    {
      "cell_type": "markdown",
      "metadata": {
        "id": "20gc9TOlJboS"
      },
      "source": [
        "# **10-year risk of CHD according to numerical variables**"
      ]
    },
    {
      "cell_type": "code",
      "execution_count": null,
      "metadata": {
        "id": "uNDmMtHscHZ9"
      },
      "outputs": [],
      "source": [
        "#creating a list of numerical variables for visualization\n",
        "num_variables = ['age', 'cigsPerDay', 'totChol', 'sysBP', 'diaBP', 'BMI', 'heartRate', 'glucose']"
      ]
    },
    {
      "cell_type": "code",
      "execution_count": null,
      "metadata": {
        "colab": {
          "base_uri": "https://localhost:8080/",
          "height": 1000
        },
        "id": "em7jvrgVcDRK",
        "outputId": "92d85ae5-3d44-4341-b111-a485931fa89e"
      },
      "outputs": [
        {
          "output_type": "display_data",
          "data": {
            "text/plain": [
              "<Figure size 1440x576 with 1 Axes>"
            ],
            "image/png": "[encoded data removed]"
          },
          "metadata": {
            "needs_background": "light"
          }
        },
        {
          "output_type": "display_data",
          "data": {
            "text/plain": [
              "<Figure size 1440x576 with 1 Axes>"
            ],
            "image/png": "[encoded data removed]"
          },
          "metadata": {
            "needs_background": "light"
          }
        }
      ],
      "source": [
        "#count plot to display target variable according to numerical variables using for-loop\n",
        "for var in num_variables[:2]:\n",
        "    #setting figure size\n",
        "    fig = plt.figure(figsize=(20,8))\n",
        "\n",
        "    #creating count plot\n",
        "    sns.countplot(data = cardio_data, x = var, hue ='TenYearCHD')\n",
        "\n",
        "    #To display the x label, y label and title of the count plot\n",
        "    plt.xlabel(var, labelpad=14, fontsize = 12)\n",
        "    plt.ylabel(\"Count\", labelpad=14, fontsize = 12)\n",
        "    plt.title(f\"TenYearCHD according to {var}\", fontsize = 15)\n",
        "    plt.show()"
      ]
    },
    {
      "cell_type": "markdown",
      "metadata": {
        "id": "K--CVKYmLT93"
      },
      "source": [
        "Inference:\n",
        "\n",
        "1. Age groups ranging from 51 to 63 are more affected by CHD and age groups ranging from 32 to 37 are less affected by CHD.\n",
        "2. Patients who are not smoking per day on an average are more affected by CHD on the contrary these patients are least affected by CHD. \n",
        "3. Patients who are smoking 20  cigarettes per day on an average are more affected by CHD.\n",
        "\n",
        "According to my hypothesis:\n",
        "\n",
        "1. Patients in their 50s and 60s are more prone to the 10-year risk of future coronary heart disease (CHD).\n",
        "2. Patients who are not consuming  cigarettes per day on an average are at high risk of CHD indicating that there are factors other than smoking causing CHD."
      ]
    },
    {
      "cell_type": "markdown",
      "metadata": {
        "id": "kxbrjlQlAUGq"
      },
      "source": [
        "####Using violin plot to get better visualization of remaining numerical variables. "
      ]
    },
    {
      "cell_type": "code",
      "execution_count": null,
      "metadata": {
        "colab": {
          "base_uri": "https://localhost:8080/",
          "height": 932
        },
        "id": "yfzBpLkkgOes",
        "outputId": "bff1186e-a0d2-4264-a3f8-2fab58c7b1fc"
      },
      "outputs": [
        {
          "output_type": "display_data",
          "data": {
            "text/plain": [
              "<Figure size 1296x1152 with 6 Axes>"
            ],
            "image/png": "[encoded data removed]"
          },
          "metadata": {
            "needs_background": "light"
          }
        }
      ],
      "source": [
        "#setting up the visualization for plotting numerical variables\n",
        "row, col = 3, 2\n",
        "f, ax = plt.subplots(row, col, figsize = (18, 16))\n",
        "\n",
        "\n",
        "#setting the visualization of violin plot to display target variable according to selected numerical variables\n",
        "for i, var in enumerate(num_variables[2:]):\n",
        "    row = i//col\n",
        "    pos = i % col \n",
        "\n",
        "    #creating violin plot\n",
        "    sns.violinplot(y = var, x = 'TenYearCHD', data = cardio_data, palette = \"gist_heat\",\n",
        "                   linewidth=2, ax = ax[row][pos])\n",
        "    \n",
        "plt.show()"
      ]
    },
    {
      "cell_type": "markdown",
      "metadata": {
        "id": "d8mNZcxGarOM"
      },
      "source": [
        "Inference:\n",
        "\n",
        "Majority portion of numerical variables affected by target variable lie in the following ranges:\n",
        "\n",
        "1. totChol : 150 to 350 \n",
        "2. sysBP : 100 to 175\n",
        "3. diaBP : 65 to 110\n",
        "4. BMI : 17 to 32\n",
        "5. heartRate : 55 to 100\n",
        "6. glucose : 50 to 110"
      ]
    },
    {
      "cell_type": "markdown",
      "metadata": {
        "id": "dbJmsSzXjiNr"
      },
      "source": [
        "# **Relation between age and total cholesterol.**"
      ]
    },
    {
      "cell_type": "code",
      "execution_count": null,
      "metadata": {
        "colab": {
          "base_uri": "https://localhost:8080/",
          "height": 473
        },
        "id": "iC_KKnLohRb0",
        "outputId": "551d1e6e-a451-4c40-d553-d28c34f75e5a"
      },
      "outputs": [
        {
          "output_type": "display_data",
          "data": {
            "text/plain": [
              "<Figure size 1296x504 with 1 Axes>"
            ],
            "image/png": "[encoded data removed]"
          },
          "metadata": {
            "needs_background": "light"
          }
        }
      ],
      "source": [
        "#setting figure size\n",
        "plt.figure(figsize=(18,7))\n",
        "\n",
        "#creating boxplot\n",
        "sns.boxplot(x = \"age\", y = \"totChol\", data = cardio_data)\n",
        "\n",
        "#To display the x label, y label and title of the box plot\n",
        "plt.xlabel(\"Age\", labelpad=14, fontsize = 12)\n",
        "plt.ylabel(\"Total Cholesterol\", labelpad=14, fontsize = 12)\n",
        "plt.title(\"Distribution of age with respect to total cholesterol\", size = 15)\n",
        "plt.show()"
      ]
    },
    {
      "cell_type": "markdown",
      "metadata": {
        "id": "apQovyitkDUs"
      },
      "source": [
        "Inference:\n",
        "\n",
        "1. From the above observation, we can infer that the boxplots are shifted in an upward manner representing that cholesterol level increases with the increase in age.\n",
        "\n",
        "According to my hypothesis:\n",
        "1. Aged people have more cholesterol i.e. bad cholesterol in general. "
      ]
    },
    {
      "cell_type": "markdown",
      "metadata": {
        "id": "wGb0fomdlhuU"
      },
      "source": [
        "# **Relation among cigsPerDay, totChol, sysBP and heartRate based on age.**\n",
        "\n",
        "\n"
      ]
    },
    {
      "cell_type": "code",
      "execution_count": null,
      "metadata": {
        "colab": {
          "base_uri": "https://localhost:8080/",
          "height": 636
        },
        "id": "r0v-YygWloKM",
        "outputId": "036715a0-1d85-4517-c45f-6d7b00bee23a"
      },
      "outputs": [
        {
          "output_type": "display_data",
          "data": {
            "text/plain": [
              "<Figure size 936x720 with 1 Axes>"
            ],
            "image/png": "[encoded data removed]"
          },
          "metadata": {
            "needs_background": "light"
          }
        }
      ],
      "source": [
        "#Plotting a line chart to check the relationship between cigsPerDay, totChol, sysBP and heartRate.\n",
        "\n",
        "#creating different series for average value of cigsPerDay, totChol, sysBP and heartrate based on age\n",
        "line_1 = cardio_data.groupby(\"age\").cigsPerDay.mean()\n",
        "line_2 = cardio_data.groupby(\"age\").totChol.mean()\n",
        "line_3 = cardio_data.groupby(\"age\").sysBP.mean()\n",
        "line_4 = cardio_data.groupby(\"age\").heartRate.mean()\n",
        "\n",
        "#setting figure size\n",
        "plt.figure(figsize=(13,10))\n",
        "\n",
        "#creating line chart \n",
        "sns.lineplot(data = line_1, label = \"cigsPerDay\")\n",
        "sns.lineplot(data = line_2, label = \"totChol\")\n",
        "sns.lineplot(data = line_3, label = \"sysBP\")\n",
        "sns.lineplot(data = line_4, label = \"heartRate\")\n",
        "\n",
        "#To display the x label, y label and title of the line chart\n",
        "plt.xlabel(\"Age\", labelpad=14, fontsize = 12)\n",
        "plt.ylabel(\"Count\", labelpad=14, fontsize = 12)\n",
        "plt.title(f\"Relation of cigsPerDay, totChol, sysBP and heartRate for every age group\", fontsize = 15)\n",
        "plt.show()"
      ]
    },
    {
      "cell_type": "markdown",
      "metadata": {
        "id": "w3Z6XpiHoHMj"
      },
      "source": [
        "Inference:\n",
        "\n",
        "1. The variable cigsPerDay and heartRate have a fairly parallel relationship with age but slightly decrease with the increase of age.\n",
        "\n",
        "2. Total cholesterol level and systolic blood pressure of the patient are moving in an increasing manner w.r.t. age. \n",
        " "
      ]
    },
    {
      "cell_type": "markdown",
      "metadata": {
        "id": "1eMGhe-MsoHL"
      },
      "source": [
        "# **Checking frequency distribution of numerical variables using histogram**"
      ]
    },
    {
      "cell_type": "code",
      "execution_count": null,
      "metadata": {
        "colab": {
          "base_uri": "https://localhost:8080/",
          "height": 988
        },
        "id": "KPJiM3l4u87L",
        "outputId": "b5c27a1b-f8e3-4133-a020-184b48c97544"
      },
      "outputs": [
        {
          "output_type": "display_data",
          "data": {
            "text/plain": [
              "<Figure size 1440x1224 with 9 Axes>"
            ],
            "image/png": "[encoded data removed]"
          },
          "metadata": {
            "needs_background": "light"
          }
        }
      ],
      "source": [
        "#Frequency distribution of variables to visualize their distribution\n",
        "cardio_data[num_variables].hist(bins = 20 , color = \"midnightblue\", figsize = (20,17))\n",
        "plt.show()"
      ]
    },
    {
      "cell_type": "markdown",
      "metadata": {
        "id": "TxcOPw89whOW"
      },
      "source": [
        "Inference:\n",
        "\n",
        "1. All variables follows almost \"Normal Distribution\" except 'age', 'cigsPerDay', and 'glucose'.\n",
        "\n",
        "2. The variables 'age', 'cigsPerDay', and 'glucose' shows irregular distribution.\n"
      ]
    },
    {
      "cell_type": "markdown",
      "metadata": {
        "id": "sYkBhNBmwgrW"
      },
      "source": [
        "# **Drawing heatmap to compare the correlation between features**"
      ]
    },
    {
      "cell_type": "code",
      "execution_count": null,
      "metadata": {
        "colab": {
          "base_uri": "https://localhost:8080/",
          "height": 936
        },
        "id": "52hSW0oWwpl1",
        "outputId": "ee87b3a9-9dfa-4a3c-bc54-933c74ca54ac"
      },
      "outputs": [
        {
          "output_type": "display_data",
          "data": {
            "text/plain": [
              "<Figure size 1440x1080 with 2 Axes>"
            ],
            "image/png": "[encoded data removed]"
          },
          "metadata": {
            "needs_background": "light"
          }
        }
      ],
      "source": [
        "#Drawing heatmap to compare the correlation between features\n",
        "\n",
        "#setting figure size\n",
        "plt.figure(figsize = (20,15))\n",
        "\n",
        "#creating heatmap\n",
        "corr = cardio_data.corr()\n",
        "sns.heatmap(corr, cmap = 'GnBu', annot = True, fmt = '.2f')\n",
        "plt.show()"
      ]
    },
    {
      "cell_type": "markdown",
      "metadata": {
        "id": "m6fTyiQ8RWVQ"
      },
      "source": [
        "Inference:\n",
        "\n",
        "1. All variables are positively correlated with the target variable. \n",
        "2. The  variables cigsPerDay and is_smoking are more positively correlated.\n",
        "3. The  variables sysBP and diaBP are more positively correlated.\n",
        "4. The  variable prevalentHyp is more correlated with sysBP."
      ]
    },
    {
      "cell_type": "markdown",
      "metadata": {
        "id": "y41vuJcaZg9r"
      },
      "source": [
        "# **Handling imbalanced data**"
      ]
    },
    {
      "cell_type": "code",
      "execution_count": null,
      "metadata": {
        "id": "7ST_eFjLhhJw"
      },
      "outputs": [],
      "source": [
        "#Creating independent and dependent variables from the given dataset\n",
        "X = cardio_data.drop('TenYearCHD', axis = 1)\n",
        "y = cardio_data[['TenYearCHD']]"
      ]
    },
    {
      "cell_type": "code",
      "execution_count": null,
      "metadata": {
        "colab": {
          "base_uri": "https://localhost:8080/"
        },
        "id": "FJ_yyplZhOwJ",
        "outputId": "c17dd18b-534d-4015-fea8-f2856552c0f4"
      },
      "outputs": [
        {
          "output_type": "stream",
          "name": "stdout",
          "text": [
            "Original dataset shape 3272\n",
            "Resampled dataset shape 5568\n"
          ]
        }
      ],
      "source": [
        "#Handling imbalanced data\n",
        "smote = SMOTE()\n",
        "\n",
        "#fit predictor and target variable\n",
        "X_smote, y_smote = smote.fit_resample(X, y)\n",
        "\n",
        "#Printing original and resampled dataset shape\n",
        "print(\"Original dataset shape\", len(cardio_data))\n",
        "print(\"Resampled dataset shape\", len(y_smote))"
      ]
    },
    {
      "cell_type": "markdown",
      "metadata": {
        "id": "NNYkkf6gE8Wv"
      },
      "source": [
        "####After resampling the original dataset with 3272 rows, the modified dataset have 5568 rows."
      ]
    },
    {
      "cell_type": "markdown",
      "metadata": {
        "id": "vCm3NF4oaGbf"
      },
      "source": [
        "# **Feature Selection**"
      ]
    },
    {
      "cell_type": "code",
      "execution_count": null,
      "metadata": {
        "id": "M1KJeOxpmIP9"
      },
      "outputs": [],
      "source": [
        "#To extract top 10 features using SelectKBest() function\n",
        "best = SelectKBest(score_func = chi2)\n",
        "\n",
        "#fit predictor and target variable\n",
        "fit = best.fit(X_smote, y_smote)"
      ]
    },
    {
      "cell_type": "code",
      "execution_count": null,
      "metadata": {
        "id": "LddO_od_mkKD"
      },
      "outputs": [],
      "source": [
        "#Assigning Chi Squared scores to a variable\n",
        "data_scores = pd.DataFrame(fit.scores_)\n",
        "\n",
        "#Assigning p-values to a variable\n",
        "data_pvalues = pd.DataFrame(fit.pvalues_)\n",
        "\n",
        "#creating a dataframe with feature names in it\n",
        "data_columns = pd.DataFrame(X_smote.columns)"
      ]
    },
    {
      "cell_type": "code",
      "execution_count": null,
      "metadata": {
        "colab": {
          "base_uri": "https://localhost:8080/"
        },
        "id": "iJ-DxBVbnA5j",
        "outputId": "79e43c1c-1115-4f5c-c771-8eec1773a875"
      },
      "outputs": [
        {
          "output_type": "stream",
          "name": "stdout",
          "text": [
            "         Feature   Chi2 Score        p-value\n",
            "9          sysBP  1451.817401   0.000000e+00\n",
            "13       glucose   983.633970  6.481569e-216\n",
            "8        totChol   734.852680  7.888945e-162\n",
            "0            age   718.800445  2.440621e-158\n",
            "3     cigsPerDay   369.835334   2.032577e-82\n",
            "10         diaBP   336.161183   4.374318e-75\n",
            "4         BPMeds    48.184695   3.879042e-12\n",
            "6   prevalentHyp    45.791622   1.315249e-11\n",
            "7       diabetes    27.528090   1.548294e-07\n",
            "11           BMI    23.615192   1.176550e-06\n",
            "2     is_smoking     9.566038   1.982101e-03\n"
          ]
        }
      ],
      "source": [
        "#Join three dataframes using concat() function\n",
        "scores = pd.concat([data_columns, data_scores, data_pvalues], axis = 1)\n",
        "\n",
        "#Assigning column names \n",
        "scores.columns = ['Feature','Chi2 Score', 'p-value']\n",
        "\n",
        "#Print 11 best sorted Chi-squared score and p-value\n",
        "print(scores.nlargest(11, 'Chi2 Score'))"
      ]
    },
    {
      "cell_type": "code",
      "execution_count": null,
      "metadata": {
        "colab": {
          "base_uri": "https://localhost:8080/",
          "height": 516
        },
        "id": "Qam9m-CmnWWb",
        "outputId": "d1479c59-dd0b-479b-8f83-c516ae885c72"
      },
      "outputs": [
        {
          "output_type": "display_data",
          "data": {
            "text/plain": [
              "<Figure size 1224x576 with 1 Axes>"
            ],
            "image/png": "[encoded data removed]"
          },
          "metadata": {
            "needs_background": "light"
          }
        }
      ],
      "source": [
        "#To visualize feature selection\n",
        "#setting figure size\n",
        "plt.figure(figsize = (17, 8))\n",
        "\n",
        "#sorting values in descending order using sort_values() function\n",
        "scores = scores.sort_values(by = 'Chi2 Score', ascending = False)\n",
        "\n",
        "#creating bar chart\n",
        "sns.barplot(x = 'Feature', y = 'Chi2 Score', data = scores, palette = 'BuGn_r')\n",
        "\n",
        "#To display the title of the bar chart\n",
        "plt.title(\"Plot showing the best features in descending order\", size = 15)\n",
        "plt.show()"
      ]
    },
    {
      "cell_type": "code",
      "execution_count": null,
      "metadata": {
        "colab": {
          "base_uri": "https://localhost:8080/"
        },
        "id": "Xb6MBcgKkjbx",
        "outputId": "98aab442-8e19-4b4d-a10d-660dee8b94a0"
      },
      "outputs": [
        {
          "output_type": "stream",
          "name": "stdout",
          "text": [
            "These are the top 10 features who have strongest influence over the target variable: \n",
            " ['sysBP', 'glucose', 'totChol', 'age', 'cigsPerDay', 'diaBP', 'BPMeds', 'prevalentHyp', 'diabetes', 'BMI']\n"
          ]
        }
      ],
      "source": [
        "#Printing top 10 features list\n",
        "print(\"These are the top 10 features who have strongest influence over the target variable: \\n\", scores[\"Feature\"].tolist()[:10])"
      ]
    },
    {
      "cell_type": "markdown",
      "metadata": {
        "id": "FhRSxu9yJJa5"
      },
      "source": [
        "###For further model evaluation, we decided to remove the four least important features in our dataset (i.e. the features with high p-values and low Chi-squared score). "
      ]
    },
    {
      "cell_type": "code",
      "execution_count": null,
      "metadata": {
        "colab": {
          "base_uri": "https://localhost:8080/"
        },
        "id": "VCEDge6xzODg",
        "outputId": "ac7f28f0-152a-4fd1-b8da-f3860f4015fe"
      },
      "outputs": [
        {
          "output_type": "stream",
          "name": "stdout",
          "text": [
            "<class 'pandas.core.frame.DataFrame'>\n",
            "Int64Index: 3272 entries, 1 to 3389\n",
            "Data columns (total 11 columns):\n",
            " #   Column        Non-Null Count  Dtype  \n",
            "---  ------        --------------  -----  \n",
            " 0   age           3272 non-null   int64  \n",
            " 1   cigsPerDay    3272 non-null   float64\n",
            " 2   BPMeds        3272 non-null   float64\n",
            " 3   prevalentHyp  3272 non-null   int64  \n",
            " 4   diabetes      3272 non-null   int64  \n",
            " 5   totChol       3272 non-null   float64\n",
            " 6   sysBP         3272 non-null   float64\n",
            " 7   diaBP         3272 non-null   float64\n",
            " 8   BMI           3272 non-null   float64\n",
            " 9   glucose       3272 non-null   float64\n",
            " 10  TenYearCHD    3272 non-null   int64  \n",
            "dtypes: float64(7), int64(4)\n",
            "memory usage: 435.8 KB\n"
          ]
        }
      ],
      "source": [
        "#Dropping the least important features\n",
        "cardio_data.drop(scores[\"Feature\"].tolist()[-4:], axis = 1, inplace = True)\n",
        "cardio_data.info()"
      ]
    },
    {
      "cell_type": "markdown",
      "metadata": {
        "id": "Iu4idUvNi1LP"
      },
      "source": [
        "#**Data Preprocessing**"
      ]
    },
    {
      "cell_type": "code",
      "execution_count": null,
      "metadata": {
        "id": "lQ5o1cGOi5kv"
      },
      "outputs": [],
      "source": [
        "#Splitting the dataset into the training and validation set\n",
        "X_train, X_val, y_train, y_val = train_test_split(X_smote, y_smote, test_size = 0.2, random_state = 0)"
      ]
    },
    {
      "cell_type": "code",
      "execution_count": null,
      "metadata": {
        "id": "oFMp56-R3FCS"
      },
      "outputs": [],
      "source": [
        "#Transforming the data\n",
        "scaler = StandardScaler()\n",
        "\n",
        "#Create dummy validation and training set to hold scaled values\n",
        "s_train = pd.DataFrame(columns = X_train.columns, index = X_train.index)\n",
        "s_train[s_train.columns] = scaler.fit_transform(X_train)\n",
        "\n",
        "s_val = pd.DataFrame(columns = X_val.columns, index = X_val.index)\n",
        "s_val[s_val.columns] = scaler.transform(X_val)\n",
        "\n",
        "#Assigning dummy datasets to original datasets\n",
        "X_train = s_train\n",
        "X_val = s_val"
      ]
    },
    {
      "cell_type": "markdown",
      "metadata": {
        "id": "s5Eh_7B84Ldw"
      },
      "source": [
        "# **Model Implementation**"
      ]
    },
    {
      "cell_type": "markdown",
      "metadata": {
        "id": "wJ0XL3yw4Qbw"
      },
      "source": [
        "We will be looking at following algorithms:\n",
        "\n",
        "1. Logistic Regression\n",
        "2. Support Vector Machines \n",
        "3. KNeighbors Classifier\n",
        "4. Decision Tree Classifier\n",
        "5. Random Forest Classifier\n",
        "6. Gradient Boosting Classifier\n",
        "7. Extra Trees Classifier\n",
        "8. XGB (Extreme Gradient Boosting)\n"
      ]
    },
    {
      "cell_type": "code",
      "execution_count": null,
      "metadata": {
        "id": "I37CSNzt6Bqh"
      },
      "outputs": [],
      "source": [
        "#Creating a list of diiferent models \n",
        "models = [\n",
        "          ['Logistic Regression: ', LogisticRegression()],\n",
        "          ['SVC: ', SVC(probability = True)],\n",
        "          ['KNeighbors Classifier: ', KNeighborsClassifier()],\n",
        "          ['Decision Tree Classifier: ', DecisionTreeClassifier()],\n",
        "          ['Random Forest: ', RandomForestClassifier()],\n",
        "          ['Gradient Boosting: ', GradientBoostingClassifier()],\n",
        "          ['Extra Trees Classifier: ', ExtraTreesClassifier()],\n",
        "          ['XGB Classifier: ', XGBClassifier()]\n",
        "          ]"
      ]
    },
    {
      "cell_type": "code",
      "execution_count": null,
      "metadata": {
        "id": "j6FtfWR-7PCt"
      },
      "outputs": [],
      "source": [
        "#Run all the proposed models and update the information in a list model_data\n",
        "\n",
        "#Creating model_data as an empty list\n",
        "model_data = []\n",
        "for name, n_model in models:\n",
        "    n_model_data = {}\n",
        "\n",
        "    #Using random seed and random_state to produce the same results across different executions\n",
        "    np.random.seed(20) \n",
        "    n_model.random_state = 0\n",
        "  \n",
        "    #Adding names in n_model_data dictionay\n",
        "    n_model_data[\"Name\"] = name\n",
        "\n",
        "    #Start time of model\n",
        "    start = time.time()                                \n",
        "  \n",
        "    #Fitting the model\n",
        "    n_model.fit(X_train, y_train)\n",
        "\n",
        "    #End time of model\n",
        "    end = time.time()\n",
        "    n_model_data[\"Train Time\"] = end - start\n",
        "\n",
        "    #Get the predicted classes and probabilities\n",
        "    y_val_pred = n_model.predict(X_val)\n",
        "    y_val_prob = n_model.predict_proba(X_val)\n",
        "\n",
        "    #evaluating metrics \n",
        "    n_model_data[\"Accuracy\"] = accuracy_score(y_val, y_val_pred)\n",
        "    n_model_data[\"Precision\"] = precision_score(y_val, y_val_pred)\n",
        "    n_model_data[\"Recall\"] = recall_score(y_val, y_val_pred)\n",
        "    n_model_data[\"f1 Score\"] = f1_score(y_val, y_val_pred)\n",
        "    n_model_data[\"ROC-AUC Score\"] = roc_auc_score(y_val, y_val_prob[:, 1])\n",
        "    \n",
        "    #Appending all metrics into model_data list\n",
        "    model_data.append(n_model_data)"
      ]
    },
    {
      "cell_type": "code",
      "execution_count": null,
      "metadata": {
        "id": "6XPCG_Gwo_9-",
        "colab": {
          "base_uri": "https://localhost:8080/"
        },
        "outputId": "1b650be2-ed30-49d1-ab90-365da5a11d4d"
      },
      "outputs": [
        {
          "output_type": "execute_result",
          "data": {
            "text/plain": [
              "[{'Accuracy': 0.6786355475763016,\n",
              "  'Name': 'Logistic Regression: ',\n",
              "  'Precision': 0.6736842105263158,\n",
              "  'ROC-AUC Score': 0.7407267734199737,\n",
              "  'Recall': 0.6906474820143885,\n",
              "  'Train Time': 0.028036832809448242,\n",
              "  'f1 Score': 0.6820603907637656},\n",
              " {'Accuracy': 0.7342908438061041,\n",
              "  'Name': 'SVC: ',\n",
              "  'Precision': 0.7159468438538206,\n",
              "  'ROC-AUC Score': 0.8213203630643872,\n",
              "  'Recall': 0.7751798561151079,\n",
              "  'Train Time': 5.354527473449707,\n",
              "  'f1 Score': 0.7443868739205526},\n",
              " {'Accuracy': 0.7836624775583483,\n",
              "  'Name': 'KNeighbors Classifier: ',\n",
              "  'Precision': 0.7227722772277227,\n",
              "  'ROC-AUC Score': 0.8789484541399138,\n",
              "  'Recall': 0.9190647482014388,\n",
              "  'Train Time': 0.009180068969726562,\n",
              "  'f1 Score': 0.8091844813935075},\n",
              " {'Accuracy': 0.8159784560143627,\n",
              "  'Name': 'Decision Tree Classifier: ',\n",
              "  'Precision': 0.7969543147208121,\n",
              "  'ROC-AUC Score': 0.8160342693587064,\n",
              "  'Recall': 0.8471223021582733,\n",
              "  'Train Time': 0.03582596778869629,\n",
              "  'f1 Score': 0.8212728857890148},\n",
              " {'Accuracy': 0.9039497307001796,\n",
              "  'Name': 'Random Forest: ',\n",
              "  'Precision': 0.9016100178890877,\n",
              "  'ROC-AUC Score': 0.9689796549856888,\n",
              "  'Recall': 0.9064748201438849,\n",
              "  'Train Time': 0.7707436084747314,\n",
              "  'f1 Score': 0.9040358744394619},\n",
              " {'Accuracy': 0.8231597845601436,\n",
              "  'Name': 'Gradient Boosting: ',\n",
              "  'Precision': 0.8406072106261859,\n",
              "  'ROC-AUC Score': 0.904850313297749,\n",
              "  'Recall': 0.7967625899280576,\n",
              "  'Train Time': 0.9931349754333496,\n",
              "  'f1 Score': 0.8180978762696215},\n",
              " {'Accuracy': 0.9210053859964094,\n",
              "  'Name': 'Extra Trees Classifier: ',\n",
              "  'Precision': 0.9148936170212766,\n",
              "  'ROC-AUC Score': 0.9772601273819653,\n",
              "  'Recall': 0.9280575539568345,\n",
              "  'Train Time': 0.46460843086242676,\n",
              "  'f1 Score': 0.9214285714285715},\n",
              " {'Accuracy': 0.8078994614003591,\n",
              "  'Name': 'XGB Classifier: ',\n",
              "  'Precision': 0.8202247191011236,\n",
              "  'ROC-AUC Score': 0.9016899383718832,\n",
              "  'Recall': 0.7877697841726619,\n",
              "  'Train Time': 0.3104739189147949,\n",
              "  'f1 Score': 0.8036697247706422}]"
            ]
          },
          "metadata": {},
          "execution_count": 138
        }
      ],
      "source": [
        "#Display the list of metrics in different models\n",
        "model_data"
      ]
    },
    {
      "cell_type": "code",
      "execution_count": null,
      "metadata": {
        "id": "GwSwS5VxpIx8",
        "colab": {
          "base_uri": "https://localhost:8080/",
          "height": 300
        },
        "outputId": "6bdfac8d-044f-4ea9-a6d4-ca3f449b0296"
      },
      "outputs": [
        {
          "output_type": "execute_result",
          "data": {
            "text/plain": [
              "                         Name  Train Time  Accuracy  Precision    Recall  \\\n",
              "0       Logistic Regression:     0.028037  0.678636   0.673684  0.690647   \n",
              "1                       SVC:     5.354527  0.734291   0.715947  0.775180   \n",
              "2     KNeighbors Classifier:     0.009180  0.783662   0.722772  0.919065   \n",
              "3  Decision Tree Classifier:     0.035826  0.815978   0.796954  0.847122   \n",
              "4             Random Forest:     0.770744  0.903950   0.901610  0.906475   \n",
              "5         Gradient Boosting:     0.993135  0.823160   0.840607  0.796763   \n",
              "6    Extra Trees Classifier:     0.464608  0.921005   0.914894  0.928058   \n",
              "7            XGB Classifier:     0.310474  0.807899   0.820225  0.787770   \n",
              "\n",
              "   f1 Score  ROC-AUC Score  \n",
              "0  0.682060       0.740727  \n",
              "1  0.744387       0.821320  \n",
              "2  0.809184       0.878948  \n",
              "3  0.821273       0.816034  \n",
              "4  0.904036       0.968980  \n",
              "5  0.818098       0.904850  \n",
              "6  0.921429       0.977260  \n",
              "7  0.803670       0.901690  "
            ],
            "text/html": [
              "\n",
              "  <div id=\"df-f9f81690-d3f8-413b-a099-1e08227f54fc\">\n",
              "    <div class=\"colab-df-container\">\n",
              "      <div>\n",
              "<style scoped>\n",
              "    .dataframe tbody tr th:only-of-type {\n",
              "        vertical-align: middle;\n",
              "    }\n",
              "\n",
              "    .dataframe tbody tr th {\n",
              "        vertical-align: top;\n",
              "    }\n",
              "\n",
              "    .dataframe thead th {\n",
              "        text-align: right;\n",
              "    }\n",
              "</style>\n",
              "<table border=\"1\" class=\"dataframe\">\n",
              "  <thead>\n",
              "    <tr style=\"text-align: right;\">\n",
              "      <th></th>\n",
              "      <th>Name</th>\n",
              "      <th>Train Time</th>\n",
              "      <th>Accuracy</th>\n",
              "      <th>Precision</th>\n",
              "      <th>Recall</th>\n",
              "      <th>f1 Score</th>\n",
              "      <th>ROC-AUC Score</th>\n",
              "    </tr>\n",
              "  </thead>\n",
              "  <tbody>\n",
              "    <tr>\n",
              "      <th>0</th>\n",
              "      <td>Logistic Regression:</td>\n",
              "      <td>0.028037</td>\n",
              "      <td>0.678636</td>\n",
              "      <td>0.673684</td>\n",
              "      <td>0.690647</td>\n",
              "      <td>0.682060</td>\n",
              "      <td>0.740727</td>\n",
              "    </tr>\n",
              "    <tr>\n",
              "      <th>1</th>\n",
              "      <td>SVC:</td>\n",
              "      <td>5.354527</td>\n",
              "      <td>0.734291</td>\n",
              "      <td>0.715947</td>\n",
              "      <td>0.775180</td>\n",
              "      <td>0.744387</td>\n",
              "      <td>0.821320</td>\n",
              "    </tr>\n",
              "    <tr>\n",
              "      <th>2</th>\n",
              "      <td>KNeighbors Classifier:</td>\n",
              "      <td>0.009180</td>\n",
              "      <td>0.783662</td>\n",
              "      <td>0.722772</td>\n",
              "      <td>0.919065</td>\n",
              "      <td>0.809184</td>\n",
              "      <td>0.878948</td>\n",
              "    </tr>\n",
              "    <tr>\n",
              "      <th>3</th>\n",
              "      <td>Decision Tree Classifier:</td>\n",
              "      <td>0.035826</td>\n",
              "      <td>0.815978</td>\n",
              "      <td>0.796954</td>\n",
              "      <td>0.847122</td>\n",
              "      <td>0.821273</td>\n",
              "      <td>0.816034</td>\n",
              "    </tr>\n",
              "    <tr>\n",
              "      <th>4</th>\n",
              "      <td>Random Forest:</td>\n",
              "      <td>0.770744</td>\n",
              "      <td>0.903950</td>\n",
              "      <td>0.901610</td>\n",
              "      <td>0.906475</td>\n",
              "      <td>0.904036</td>\n",
              "      <td>0.968980</td>\n",
              "    </tr>\n",
              "    <tr>\n",
              "      <th>5</th>\n",
              "      <td>Gradient Boosting:</td>\n",
              "      <td>0.993135</td>\n",
              "      <td>0.823160</td>\n",
              "      <td>0.840607</td>\n",
              "      <td>0.796763</td>\n",
              "      <td>0.818098</td>\n",
              "      <td>0.904850</td>\n",
              "    </tr>\n",
              "    <tr>\n",
              "      <th>6</th>\n",
              "      <td>Extra Trees Classifier:</td>\n",
              "      <td>0.464608</td>\n",
              "      <td>0.921005</td>\n",
              "      <td>0.914894</td>\n",
              "      <td>0.928058</td>\n",
              "      <td>0.921429</td>\n",
              "      <td>0.977260</td>\n",
              "    </tr>\n",
              "    <tr>\n",
              "      <th>7</th>\n",
              "      <td>XGB Classifier:</td>\n",
              "      <td>0.310474</td>\n",
              "      <td>0.807899</td>\n",
              "      <td>0.820225</td>\n",
              "      <td>0.787770</td>\n",
              "      <td>0.803670</td>\n",
              "      <td>0.901690</td>\n",
              "    </tr>\n",
              "  </tbody>\n",
              "</table>\n",
              "</div>\n",
              "      <button class=\"colab-df-convert\" onclick=\"convertToInteractive('df-f9f81690-d3f8-413b-a099-1e08227f54fc')\"\n",
              "              title=\"Convert this dataframe to an interactive table.\"\n",
              "              style=\"display:none;\">\n",
              "        \n",
              "  <svg xmlns=\"http://www.w3.org/2000/svg\" height=\"24px\"viewBox=\"0 0 24 24\"\n",
              "       width=\"24px\">\n",
              "    <path d=\"M0 0h24v24H0V0z\" fill=\"none\"/>\n",
              "    <path d=\"M18.56 5.44l.94 2.06.94-2.06 2.06-.94-2.06-.94-.94-2.06-.94 2.06-2.06.94zm-11 1L8.5 8.5l.94-2.06 2.06-.94-2.06-.94L8.5 2.5l-.94 2.06-2.06.94zm10 10l.94 2.06.94-2.06 2.06-.94-2.06-.94-.94-2.06-.94 2.06-2.06.94z\"/><path d=\"M17.41 7.96l-1.37-1.37c-.4-.4-.92-.59-1.43-.59-.52 0-1.04.2-1.43.59L10.3 9.45l-7.72 7.72c-.78.78-.78 2.05 0 2.83L4 21.41c.39.39.9.59 1.41.59.51 0 1.02-.2 1.41-.59l7.78-7.78 2.81-2.81c.8-.78.8-2.07 0-2.86zM5.41 20L4 18.59l7.72-7.72 1.47 1.35L5.41 20z\"/>\n",
              "  </svg>\n",
              "      </button>\n",
              "      \n",
              "  <style>\n",
              "    .colab-df-container {\n",
              "      display:flex;\n",
              "      flex-wrap:wrap;\n",
              "      gap: 12px;\n",
              "    }\n",
              "\n",
              "    .colab-df-convert {\n",
              "      background-color: #E8F0FE;\n",
              "      border: none;\n",
              "      border-radius: 50%;\n",
              "      cursor: pointer;\n",
              "      display: none;\n",
              "      fill: #1967D2;\n",
              "      height: 32px;\n",
              "      padding: 0 0 0 0;\n",
              "      width: 32px;\n",
              "    }\n",
              "\n",
              "    .colab-df-convert:hover {\n",
              "      background-color: #E2EBFA;\n",
              "      box-shadow: 0px 1px 2px rgba(60, 64, 67, 0.3), 0px 1px 3px 1px rgba(60, 64, 67, 0.15);\n",
              "      fill: #174EA6;\n",
              "    }\n",
              "\n",
              "    [theme=dark] .colab-df-convert {\n",
              "      background-color: #3B4455;\n",
              "      fill: #D2E3FC;\n",
              "    }\n",
              "\n",
              "    [theme=dark] .colab-df-convert:hover {\n",
              "      background-color: #434B5C;\n",
              "      box-shadow: 0px 1px 3px 1px rgba(0, 0, 0, 0.15);\n",
              "      filter: drop-shadow(0px 1px 2px rgba(0, 0, 0, 0.3));\n",
              "      fill: #FFFFFF;\n",
              "    }\n",
              "  </style>\n",
              "\n",
              "      <script>\n",
              "        const buttonEl =\n",
              "          document.querySelector('#df-f9f81690-d3f8-413b-a099-1e08227f54fc button.colab-df-convert');\n",
              "        buttonEl.style.display =\n",
              "          google.colab.kernel.accessAllowed ? 'block' : 'none';\n",
              "\n",
              "        async function convertToInteractive(key) {\n",
              "          const element = document.querySelector('#df-f9f81690-d3f8-413b-a099-1e08227f54fc');\n",
              "          const dataTable =\n",
              "            await google.colab.kernel.invokeFunction('convertToInteractive',\n",
              "                                                     [key], {});\n",
              "          if (!dataTable) return;\n",
              "\n",
              "          const docLinkHtml = 'Like what you see? Visit the ' +\n",
              "            '<a target=\"_blank\" href=https://colab.research.google.com/notebooks/data_table.ipynb>data table notebook</a>'\n",
              "            + ' to learn more about interactive tables.';\n",
              "          element.innerHTML = '';\n",
              "          dataTable['output_type'] = 'display_data';\n",
              "          await google.colab.output.renderOutput(dataTable, element);\n",
              "          const docLink = document.createElement('div');\n",
              "          docLink.innerHTML = docLinkHtml;\n",
              "          element.appendChild(docLink);\n",
              "        }\n",
              "      </script>\n",
              "    </div>\n",
              "  </div>\n",
              "  "
            ]
          },
          "metadata": {},
          "execution_count": 139
        }
      ],
      "source": [
        "#Creating a dataset from model_data to compare the performance of different models\n",
        "model_data_df = pd.DataFrame(model_data)\n",
        "model_data_df"
      ]
    },
    {
      "cell_type": "markdown",
      "metadata": {
        "id": "VqqgGoDY_jHo"
      },
      "source": [
        "Inference:\n",
        "\n",
        "On the basis of validation set performance:\n",
        "\n",
        "1. The KNeighbors classifier and SVC take the least and most training time, respectively.\n",
        "\n",
        "2. Extra trees classifier and logistic regression show the highest and lowest performance, respectively.\n",
        "\n",
        "3. Ensemble models are performing well on the validation set.\n",
        "\n",
        "\n",
        "\n",
        "\n",
        "**Selected model:**\n",
        "1. Extra Trees Classifier\n",
        "2. Random Forest Classifier\n",
        "3. Gradient Boosting Classifier"
      ]
    },
    {
      "cell_type": "code",
      "execution_count": null,
      "metadata": {
        "id": "O2DSTWcLDn_K"
      },
      "outputs": [],
      "source": [
        "#Creating function to evaluate model metrics\n",
        "def evaluate_metrics(model_instance, X, y):\n",
        "    ''' Takes model instance and train or test set (dependent(X) and \n",
        "        independent(y) both) as arguments to return a dictionary of accuracy, \n",
        "        precision, recall, f1 Score, and ROC-AUC Score for train or test set.\n",
        "    '''\n",
        "    \n",
        "    metr_dict = {}\n",
        "\n",
        "    #Get the predicted classes and probabilities\n",
        "    y_pred = model_instance.predict(X)\n",
        "    y_prob = model_instance.predict_proba(X)\n",
        "    \n",
        "    #evaluating metrics \n",
        "    accuracy = accuracy_score(y, y_pred)\n",
        "    precision = precision_score(y, y_pred)\n",
        "    recall = recall_score(y, y_pred)\n",
        "    f1Score = f1_score(y, y_pred)\n",
        "    ROC_AUC_Score = roc_auc_score(y, y_prob[:, 1])\n",
        "\n",
        "    #store scores in metr_dict dictionary\n",
        "    metr_dict[\"Accuracy\"] = accuracy\n",
        "    metr_dict[\"Precision\"] = precision\n",
        "    metr_dict[\"Recall\"] = recall\n",
        "    metr_dict[\"f1_score\"] = f1Score\n",
        "    metr_dict[\"roc_auc_Score\"] = ROC_AUC_Score\n",
        "\n",
        "    return metr_dict"
      ]
    },
    {
      "cell_type": "code",
      "source": [
        "#Creating the dataset to store the performance of selected models\n",
        "compiled = pd.DataFrame(columns = [\"Classifier\", \"Accuracy\", \"Precision\", \n",
        "                                   \"Recall\", \"f1_score\", \"Roc_Auc_Score\"])"
      ],
      "metadata": {
        "id": "3orpyONS_aIM"
      },
      "execution_count": null,
      "outputs": []
    },
    {
      "cell_type": "markdown",
      "metadata": {
        "id": "XeZ_iOYbBnPR"
      },
      "source": [
        "# **1. Extra Trees Classifier**"
      ]
    },
    {
      "cell_type": "markdown",
      "metadata": {
        "id": "b389wcKtCZYL"
      },
      "source": [
        "### **Hyperparameter finetuning using GridSearchCV**"
      ]
    },
    {
      "cell_type": "code",
      "execution_count": null,
      "metadata": {
        "id": "Tg2xX8n-Bq_j",
        "colab": {
          "base_uri": "https://localhost:8080/"
        },
        "outputId": "48bd6e48-ea63-4800-a33d-6e244d0925c8"
      },
      "outputs": [
        {
          "output_type": "execute_result",
          "data": {
            "text/plain": [
              "GridSearchCV(cv=5, estimator=ExtraTreesClassifier(random_state=0), n_jobs=-1,\n",
              "             param_grid={'max_depth': [40, 50, 60, 70, 80],\n",
              "                         'max_features': ['auto', 'sqrt', 'log2'],\n",
              "                         'n_estimators': [70, 80, 92, 112]})"
            ]
          },
          "metadata": {},
          "execution_count": 142
        }
      ],
      "source": [
        "#create the base model to tune\n",
        "etc = ExtraTreesClassifier(random_state = 0)\n",
        "\n",
        "#Parameter Grid\n",
        "param_grid_etc = {'n_estimators' : [70, 80, 92, 112], \n",
        "                  'max_depth' : [40, 50, 60, 70, 80],\n",
        "                  'max_features' : ['auto', 'sqrt', 'log2']\n",
        "                  }\n",
        "                  \n",
        "#Instantiate the grid search model\n",
        "etc_cv = GridSearchCV(estimator = etc, param_grid = param_grid_etc, cv = 5, n_jobs = -1)\n",
        "etc_cv.fit(X_train, y_train)"
      ]
    },
    {
      "cell_type": "code",
      "execution_count": null,
      "metadata": {
        "id": "5PEA9qlZCkw1",
        "colab": {
          "base_uri": "https://localhost:8080/"
        },
        "outputId": "94bf3268-35a2-4c22-9915-0ac6f595b1d4"
      },
      "outputs": [
        {
          "output_type": "stream",
          "name": "stdout",
          "text": [
            "Tuned parameter set:  {'max_depth': 50, 'max_features': 'auto', 'n_estimators': 112}\n"
          ]
        }
      ],
      "source": [
        "#Tuned parameter set for Extra Trees Classifier\n",
        "print(\"Tuned parameter set: \", etc_cv.best_params_)"
      ]
    },
    {
      "cell_type": "code",
      "execution_count": null,
      "metadata": {
        "id": "oK3J4vEWBq8F",
        "colab": {
          "base_uri": "https://localhost:8080/"
        },
        "outputId": "016212b8-e07a-431e-c8ee-f74ce1ce8067"
      },
      "outputs": [
        {
          "output_type": "stream",
          "name": "stdout",
          "text": [
            "Best estimator for Extra Trees Classifier is: ExtraTreesClassifier(max_depth=50, n_estimators=112, random_state=0)\n"
          ]
        }
      ],
      "source": [
        "#Best estimator for Extra Trees Classifier\n",
        "print(f\"Best estimator for Extra Trees Classifier is: {etc_cv.best_estimator_}\")"
      ]
    },
    {
      "cell_type": "code",
      "source": [
        "#create confusion matrix\n",
        "cm = confusion_matrix(y_val, etc_cv.best_estimator_.predict(X_val))\n",
        "\n",
        "#create heatmap\n",
        "ax= plt.subplot()\n",
        "sns.heatmap(cm, annot = True, cmap = \"Reds\", fmt = 'g', ax = ax)\n",
        "\n",
        "#To display the title, xlabel and ylabel of confusion matrix\n",
        "ax.set_title('Confusion Matrix')\n",
        "ax.set_xlabel('Predicted labels')\n",
        "ax.set_ylabel('True labels')\n",
        "plt.show()"
      ],
      "metadata": {
        "id": "tzZbXHEa9hEn",
        "colab": {
          "base_uri": "https://localhost:8080/",
          "height": 295
        },
        "outputId": "160e838d-62fa-47c3-873d-3022083dc422"
      },
      "execution_count": null,
      "outputs": [
        {
          "output_type": "display_data",
          "data": {
            "text/plain": [
              "<Figure size 432x288 with 2 Axes>"
            ],
            "image/png": "[encoded data removed]"
          },
          "metadata": {
            "needs_background": "light"
          }
        }
      ]
    },
    {
      "cell_type": "markdown",
      "source": [
        "Inference:\n",
        "\n",
        "1. From the above heatmap, we can conclude that the classifier predicted 564 patients are having 10-year risk of CHD, out of which 517 patients were actually having 10-year risk of CHD and remaining 47 were non-CHD patients.\n",
        "\n",
        "2. The classifier predicted 550 patients are not having 10-year risk of CHD out of which 511 patients were actually not having 10-year risk of CHD and remaining 39 were CHD patients.\n"
      ],
      "metadata": {
        "id": "t5x7ZZH25LlH"
      }
    },
    {
      "cell_type": "code",
      "source": [
        "#Evaluated metrics of validation set\n",
        "etc_metrics = evaluate_metrics(etc_cv.best_estimator_, X_val, y_val)\n",
        "print(\"Evaluated metrics are:\")\n",
        "etc_metrics"
      ],
      "metadata": {
        "colab": {
          "base_uri": "https://localhost:8080/"
        },
        "id": "WIS6YR7pBCGX",
        "outputId": "5b9c90f4-239c-48cf-fd86-02285d971592"
      },
      "execution_count": null,
      "outputs": [
        {
          "output_type": "stream",
          "name": "stdout",
          "text": [
            "Evaluated metrics are:\n"
          ]
        },
        {
          "output_type": "execute_result",
          "data": {
            "text/plain": [
              "{'Accuracy': 0.9228007181328546,\n",
              " 'Precision': 0.9166666666666666,\n",
              " 'Recall': 0.9298561151079137,\n",
              " 'f1_score': 0.9232142857142857,\n",
              " 'roc_auc_Score': 0.9776017895361131}"
            ]
          },
          "metadata": {},
          "execution_count": 146
        }
      ]
    },
    {
      "cell_type": "markdown",
      "source": [
        "Inference:\n",
        "1. Best tuned parameters are 'max_depth' = 50, 'max_features' = 'auto',  'n_estimators' = 112.\n",
        "2. Improved validation set scores: \n",
        "   *  The validation set accuracy is 0.922 over 0.921, which was achieved using the untuned model.\n",
        "   * The validation set precision is 0.916 over 0.914, which was achieved using the untuned model.\n",
        "   *  The validation set recall score is 0.929 over 0.928, which was achieved using the untuned model.\n",
        "   * The validation set f1 score is 0.923 over 0.921, which was achieved using the untuned model.\n",
        "   * The validation set ROC_AUC_Score is 0.9776 over 0.9772, which was achieved using the untuned model.\n"
      ],
      "metadata": {
        "id": "lUr75WzwGEm0"
      }
    },
    {
      "cell_type": "code",
      "execution_count": null,
      "metadata": {
        "id": "vpmXeU6TG_Nb",
        "colab": {
          "base_uri": "https://localhost:8080/"
        },
        "outputId": "316affcf-51ae-49ef-b27e-3f89be2fff70"
      },
      "outputs": [
        {
          "output_type": "stream",
          "name": "stdout",
          "text": [
            "Classification report:\n",
            " \n",
            "                precision    recall  f1-score   support\n",
            "\n",
            "           0       0.93      0.92      0.92       558\n",
            "           1       0.92      0.93      0.92       556\n",
            "\n",
            "    accuracy                           0.92      1114\n",
            "   macro avg       0.92      0.92      0.92      1114\n",
            "weighted avg       0.92      0.92      0.92      1114\n",
            "\n"
          ]
        }
      ],
      "source": [
        "#To print classification_report\n",
        "print(\"Classification report:\\n \\n \", classification_report(y_val, etc_cv.best_estimator_.predict(X_val)))"
      ]
    },
    {
      "cell_type": "markdown",
      "source": [
        "Inference:\n",
        "1. For this model the accuracy score is 0.92.\n",
        "2. The precision for a patient having 10-year risk of coronary heart disease (CHD) is 0.92 whereas for non-CHD patient is 0.93.\n",
        "3. Recall for a patient having 10-year risk of coronary heart disease (CHD) is 0.93 whereas for non-CHD patient is 0.92.\n",
        "4. The f1-score for a patient having a 10-year risk of coronary heart disease (CHD) and for a non-CHD patient is 0.92.\n",
        "5. The data tested for CHD patient is 556 and for the non-CHD patient is 558."
      ],
      "metadata": {
        "id": "CjzuT_lgnwdP"
      }
    },
    {
      "cell_type": "code",
      "source": [
        "#Appending the best hyperparameter and scores with tuned parameters in the compiled df\n",
        "compiled = compiled.append({\"Classifier\" : \"Extra Trees Classifier\",                             \n",
        "                            \"Accuracy\" : etc_metrics[\"Accuracy\"],                            \n",
        "                            \"Precision\" : etc_metrics[\"Precision\"],                            \n",
        "                            \"Recall\" : etc_metrics[\"Recall\"],                           \n",
        "                            \"f1_score\" : etc_metrics[\"f1_score\"],                        \n",
        "                            \"Roc_Auc_Score\" : etc_metrics[\"roc_auc_Score\"],\n",
        "                            \"Best Hyperparameters\" : etc_cv.best_params_ \n",
        "                             }, ignore_index = True)"
      ],
      "metadata": {
        "id": "wonYH8s67rL5"
      },
      "execution_count": null,
      "outputs": []
    },
    {
      "cell_type": "markdown",
      "metadata": {
        "id": "cPQmWR_G-y__"
      },
      "source": [
        "### **Feature Importance**"
      ]
    },
    {
      "cell_type": "code",
      "execution_count": null,
      "metadata": {
        "id": "dQ7pwBQ8-2sp",
        "colab": {
          "base_uri": "https://localhost:8080/"
        },
        "outputId": "aa50b38a-83f6-42e3-b17d-7d0b121d3f0d"
      },
      "outputs": [
        {
          "output_type": "stream",
          "name": "stdout",
          "text": [
            "Feature importance of best estimator: \n",
            " [0.15052297 0.02091874 0.0227098  0.11109146 0.02379216 0.00210784\n",
            " 0.01617862 0.00634861 0.11120935 0.12699874 0.10568438 0.09745155\n",
            " 0.10171394 0.10327184]\n"
          ]
        }
      ],
      "source": [
        "#Printing feature importance of best estimator\n",
        "print(\"Feature importance of best estimator: \\n\", etc_cv.best_estimator_.feature_importances_)"
      ]
    },
    {
      "cell_type": "code",
      "execution_count": null,
      "metadata": {
        "id": "TchNAwmwX3rU",
        "colab": {
          "base_uri": "https://localhost:8080/",
          "height": 461
        },
        "outputId": "39aa5402-3c8c-420d-e0f6-db62aaa3e759"
      },
      "outputs": [
        {
          "output_type": "display_data",
          "data": {
            "text/plain": [
              "<Figure size 720x432 with 1 Axes>"
            ],
            "image/png": "[encoded data removed]"
          },
          "metadata": {
            "needs_background": "light"
          }
        }
      ],
      "source": [
        "#Bar chart for feature importance\n",
        "importances_ = etc_cv.best_estimator_.feature_importances_\n",
        "\n",
        "#Returning the index of sorted array (importances) \n",
        "indices_ = np.argsort(importances_)[::-1]\n",
        "\n",
        "#Creating a list of features name\n",
        "names_ = [X_train.columns[i] for i in indices_]\n",
        "\n",
        "#Create plot\n",
        "plt.figure(figsize = (10,6))\n",
        "\n",
        "#Create plot title\n",
        "plt.title(\"Feature Importance\", fontsize = 15)\n",
        "\n",
        "#Add bars\n",
        "plt.bar(range(X_train.shape[1]), importances_[indices_])\n",
        "\n",
        "#Add feature names as x-axis labels\n",
        "plt.xticks(range(X_train.shape[1]), names_, rotation = 90)\n",
        "plt.ylabel('Relative Importance', labelpad = 20, fontsize = 13)\n",
        "\n",
        "#Show plot\n",
        "plt.show()"
      ]
    },
    {
      "cell_type": "code",
      "execution_count": null,
      "metadata": {
        "id": "E5fH6KQbcGdh",
        "colab": {
          "base_uri": "https://localhost:8080/"
        },
        "outputId": "40513362-7192-41f5-80ea-e76ff84270d4"
      },
      "outputs": [
        {
          "output_type": "stream",
          "name": "stdout",
          "text": [
            "Top 8 important features: \n",
            " ['age', 'sysBP', 'totChol', 'cigsPerDay', 'diaBP', 'glucose', 'heartRate', 'BMI']\n"
          ]
        }
      ],
      "source": [
        "#Get top 8 important features \n",
        "print(\"Top 8 important features: \\n\", names_[0:8])"
      ]
    },
    {
      "cell_type": "code",
      "execution_count": null,
      "metadata": {
        "id": "Cqatbn6pr_KG",
        "colab": {
          "base_uri": "https://localhost:8080/"
        },
        "outputId": "c207a379-9efa-4906-b579-9efbd4dc1fca"
      },
      "outputs": [
        {
          "output_type": "stream",
          "name": "stdout",
          "text": [
            "2 least important features: \n",
            " ['diabetes', 'prevalentStroke']\n"
          ]
        }
      ],
      "source": [
        "#Get least important features \n",
        "print(\"2 least important features: \\n\", names_[-2:])"
      ]
    },
    {
      "cell_type": "code",
      "execution_count": null,
      "metadata": {
        "id": "Je4Mhy94sbA8"
      },
      "outputs": [],
      "source": [
        "#Reduce test & validation set to 8 feature set\n",
        "train_imp_feature_etc = X_train[names_[0:8]]\n",
        "val_imp_feature_etc = X_val[names_[0:8]]"
      ]
    },
    {
      "cell_type": "code",
      "execution_count": null,
      "metadata": {
        "id": "eKeuvsy-UxC3",
        "colab": {
          "base_uri": "https://localhost:8080/"
        },
        "outputId": "3c6a2805-4134-4962-b3ef-9fe2f563d6b7"
      },
      "outputs": [
        {
          "output_type": "execute_result",
          "data": {
            "text/plain": [
              "ExtraTreesClassifier(max_depth=50, n_estimators=112, random_state=0)"
            ]
          },
          "metadata": {},
          "execution_count": 154
        }
      ],
      "source": [
        "#Clone the GridSearch model with its parameter and fit on reduced dataset\n",
        "cloned_model_etc = clone(etc_cv.best_estimator_)\n",
        "cloned_model_etc.fit(train_imp_feature_etc, y_train)"
      ]
    },
    {
      "cell_type": "code",
      "source": [
        "#create confusion matrix\n",
        "cm = confusion_matrix(y_val, cloned_model_etc.predict(val_imp_feature_etc))\n",
        "\n",
        "#create heatmap\n",
        "ax= plt.subplot()\n",
        "sns.heatmap(cm, annot=True, cmap=\"Reds\", fmt='g',ax = ax)\n",
        "\n",
        "#To display the title, xlabel and ylabel of confusion matrix\n",
        "ax.set_title('Confusion Matrix')\n",
        "ax.set_xlabel('Predicted labels')\n",
        "ax.set_ylabel('True labels')\n",
        "plt.show()"
      ],
      "metadata": {
        "colab": {
          "base_uri": "https://localhost:8080/",
          "height": 295
        },
        "id": "mwI8EXrhBZRk",
        "outputId": "55f5bcdd-abb6-4f5e-e6ca-87106e8bbeb2"
      },
      "execution_count": null,
      "outputs": [
        {
          "output_type": "display_data",
          "data": {
            "text/plain": [
              "<Figure size 432x288 with 2 Axes>"
            ],
            "image/png": "[encoded data removed]"
          },
          "metadata": {
            "needs_background": "light"
          }
        }
      ]
    },
    {
      "cell_type": "code",
      "execution_count": null,
      "metadata": {
        "id": "ND5ocqHNj8Xx",
        "colab": {
          "base_uri": "https://localhost:8080/"
        },
        "outputId": "466ffaa0-6319-415c-d895-7f7c670ee85f"
      },
      "outputs": [
        {
          "output_type": "stream",
          "name": "stdout",
          "text": [
            "Evaluated metrics are:\n"
          ]
        },
        {
          "output_type": "execute_result",
          "data": {
            "text/plain": [
              "{'Accuracy': 0.9039497307001796,\n",
              " 'Precision': 0.8945518453427065,\n",
              " 'Recall': 0.9154676258992805,\n",
              " 'f1_score': 0.9048888888888889,\n",
              " 'roc_auc_Score': 0.9695501663185581}"
            ]
          },
          "metadata": {},
          "execution_count": 156
        }
      ],
      "source": [
        "#Evaluated metrics\n",
        "print(\"Evaluated metrics are:\")\n",
        "evaluate_metrics(cloned_model_etc, val_imp_feature_etc, y_val)"
      ]
    },
    {
      "cell_type": "code",
      "execution_count": null,
      "metadata": {
        "id": "dMJx0cWOHdPl",
        "colab": {
          "base_uri": "https://localhost:8080/"
        },
        "outputId": "6e1c7626-6fc6-451f-a79b-ba1f42f7598e"
      },
      "outputs": [
        {
          "output_type": "stream",
          "name": "stdout",
          "text": [
            "Classification report:\n",
            " \n",
            "                precision    recall  f1-score   support\n",
            "\n",
            "           0       0.91      0.89      0.90       558\n",
            "           1       0.89      0.92      0.90       556\n",
            "\n",
            "    accuracy                           0.90      1114\n",
            "   macro avg       0.90      0.90      0.90      1114\n",
            "weighted avg       0.90      0.90      0.90      1114\n",
            "\n"
          ]
        }
      ],
      "source": [
        "#To print classification_report\n",
        "print(\"Classification report:\\n \\n \", classification_report(y_val, cloned_model_etc.predict(val_imp_feature_etc)))"
      ]
    },
    {
      "cell_type": "markdown",
      "source": [
        "Inference:\n",
        "1. Feature importance was not able to improve the performance of the tuned model as the accuracy score of the model drops from 0.92 to 0.90.\n",
        "2. No improvement in precision, recall, f1-score, and ROC-AUC score as compared to tuned model.\n",
        "3. We can observe from the confusion matrix, that the classifier prediction is performing badly after feature importance. Therefore, we will not consider feature importance in this model."
      ],
      "metadata": {
        "id": "q6AU3LOdYydg"
      }
    },
    {
      "cell_type": "markdown",
      "metadata": {
        "id": "-P6pcEBuBrSR"
      },
      "source": [
        "# **2. Random Forest Classifier**"
      ]
    },
    {
      "cell_type": "markdown",
      "metadata": {
        "id": "K-4GAbFCI3_l"
      },
      "source": [
        "### **Hyperparameter finetuning using GridSearchCV**"
      ]
    },
    {
      "cell_type": "code",
      "execution_count": null,
      "metadata": {
        "id": "smLl8mYBcyda",
        "colab": {
          "base_uri": "https://localhost:8080/"
        },
        "outputId": "55361400-560a-44e0-d679-7df4665070bf"
      },
      "outputs": [
        {
          "output_type": "execute_result",
          "data": {
            "text/plain": [
              "GridSearchCV(cv=5, estimator=RandomForestClassifier(random_state=0), n_jobs=-1,\n",
              "             param_grid={'max_depth': [30, 50, 80, 100],\n",
              "                         'max_features': ['auto', 'sqrt', 'log2'],\n",
              "                         'n_estimators': [10, 40, 60, 92]})"
            ]
          },
          "metadata": {},
          "execution_count": 158
        }
      ],
      "source": [
        "#create the base model to tune\n",
        "rfc = RandomForestClassifier(random_state = 0)\n",
        "\n",
        "#Parameter Grid\n",
        "param_grid_rfc = {'n_estimators' : [10, 40, 60, 92], \n",
        "                  'max_depth' : [30, 50, 80, 100],\n",
        "                  'max_features' : ['auto', 'sqrt', 'log2']\n",
        "                  }\n",
        "\n",
        "#Instantiate the grid search model \n",
        "rfc_cv = GridSearchCV(estimator = rfc, param_grid = param_grid_rfc, cv = 5, n_jobs = -1)\n",
        "rfc_cv.fit(X_train, y_train)"
      ]
    },
    {
      "cell_type": "code",
      "execution_count": null,
      "metadata": {
        "id": "dBjdo66zPjnJ",
        "colab": {
          "base_uri": "https://localhost:8080/"
        },
        "outputId": "1ec800e6-987a-4726-eb1e-a5ace43c6f7a"
      },
      "outputs": [
        {
          "output_type": "stream",
          "name": "stdout",
          "text": [
            "Tuned parameter set:  {'max_depth': 50, 'max_features': 'auto', 'n_estimators': 92}\n"
          ]
        }
      ],
      "source": [
        "#Tuned parameter set for Random Forest Classifier\n",
        "print(\"Tuned parameter set: \", rfc_cv.best_params_)"
      ]
    },
    {
      "cell_type": "code",
      "execution_count": null,
      "metadata": {
        "id": "OED9RXwKqZoZ",
        "colab": {
          "base_uri": "https://localhost:8080/"
        },
        "outputId": "e4a5e69d-42ef-46e1-a54f-48efe221b6ba"
      },
      "outputs": [
        {
          "output_type": "stream",
          "name": "stdout",
          "text": [
            "Best estimator for Random Forest Classifier is:  RandomForestClassifier(max_depth=50, n_estimators=92, random_state=0)\n"
          ]
        }
      ],
      "source": [
        "#Best estimator for Random Forest Classifier\n",
        "print(\"Best estimator for Random Forest Classifier is: \", rfc_cv.best_estimator_)"
      ]
    },
    {
      "cell_type": "code",
      "source": [
        "#create confusion matrix\n",
        "cm = confusion_matrix(y_val, rfc_cv.best_estimator_.predict(X_val))\n",
        "\n",
        "#create heatmap\n",
        "ax= plt.subplot()\n",
        "sns.heatmap(cm, annot=True, cmap=\"Reds\", fmt='g',ax = ax)\n",
        "\n",
        "#To display the title, xlabel and ylabel of confusion matrix\n",
        "ax.set_title('Confusion Matrix')\n",
        "ax.set_xlabel('Predicted labels')\n",
        "ax.set_ylabel('True labels')\n",
        "plt.show()"
      ],
      "metadata": {
        "colab": {
          "base_uri": "https://localhost:8080/",
          "height": 295
        },
        "id": "SHxFbmBZB6fg",
        "outputId": "ea1afcb5-3dae-44dd-960d-5c01fe32cccd"
      },
      "execution_count": null,
      "outputs": [
        {
          "output_type": "display_data",
          "data": {
            "text/plain": [
              "<Figure size 432x288 with 2 Axes>"
            ],
            "image/png": "[encoded data removed]"
          },
          "metadata": {
            "needs_background": "light"
          }
        }
      ]
    },
    {
      "cell_type": "markdown",
      "source": [
        "Inference:\n",
        "\n",
        "1. From the above heatmap, we can conclude that the classifier predicted 557 patients are having 10-year risk of CHD, out of which 505 patients were actually having 10-year risk of CHD and remaining 52 were non-CHD patients.\n",
        "\n",
        "2. The classifier predicted 557 patients are not having 10-year risk of CHD out of which 506 patients were actually not having 10-year risk of CHD and remaining 51 were CHD patients.\n"
      ],
      "metadata": {
        "id": "SPwtsL1dCg28"
      }
    },
    {
      "cell_type": "code",
      "source": [
        "#Evaluated metrics of validation set\n",
        "rfc_metrics = evaluate_metrics(rfc_cv.best_estimator_, X_val, y_val)\n",
        "print(\"Evaluated metrics are:\")\n",
        "rfc_metrics"
      ],
      "metadata": {
        "colab": {
          "base_uri": "https://localhost:8080/"
        },
        "outputId": "d21a58d7-8151-48fd-e8c2-63f6029460a9",
        "id": "GzKa59i7C_ev"
      },
      "execution_count": null,
      "outputs": [
        {
          "output_type": "stream",
          "name": "stdout",
          "text": [
            "Evaluated metrics are:\n"
          ]
        },
        {
          "output_type": "execute_result",
          "data": {
            "text/plain": [
              "{'Accuracy': 0.90754039497307,\n",
              " 'Precision': 0.9066427289048474,\n",
              " 'Recall': 0.908273381294964,\n",
              " 'f1_score': 0.9074573225516622,\n",
              " 'roc_auc_Score': 0.9686073721667827}"
            ]
          },
          "metadata": {},
          "execution_count": 162
        }
      ]
    },
    {
      "cell_type": "markdown",
      "source": [
        "Inference:\n",
        "1. Best tuned parameters are 'max_depth' = 50, 'max_features' = 'auto',  'n_estimators' = 92.\n",
        "2. Improved validation set scores: \n",
        "   *  The validation set accuracy is 0.907 over 0.903, which was achieved using the untuned model.\n",
        "   * The validation set precision is 0.906 over 0.901, which was achieved using the untuned model.\n",
        "   *  The validation set recall score is 0.908 over 0.906, which was achieved using the untuned model.\n",
        "   * The validation set f1 score is 0.907 over 0.904, which was achieved using the untuned model.\n"
      ],
      "metadata": {
        "id": "Uqm5djlyJPgj"
      }
    },
    {
      "cell_type": "code",
      "source": [
        "#Appending the best hyperparameter and scores with tuned parameters in the compiled df\n",
        "compiled = compiled.append({\"Classifier\" : \"Random Forest Classifier\",                            \n",
        "                            \"Accuracy\" : rfc_metrics[\"Accuracy\"],                            \n",
        "                            \"Precision\" : rfc_metrics[\"Precision\"],                            \n",
        "                            \"Recall\" : rfc_metrics[\"Recall\"],                            \n",
        "                            \"f1_score\" : rfc_metrics[\"f1_score\"],                         \n",
        "                            \"Roc_Auc_Score\" : rfc_metrics[\"roc_auc_Score\"],\n",
        "                            \"Best Hyperparameters\" : rfc_cv.best_params_ \n",
        "                             }, ignore_index = True)"
      ],
      "metadata": {
        "id": "hAAS9N5rC5Ah"
      },
      "execution_count": null,
      "outputs": []
    },
    {
      "cell_type": "code",
      "execution_count": null,
      "metadata": {
        "id": "VBLTQfjYVckf",
        "colab": {
          "base_uri": "https://localhost:8080/"
        },
        "outputId": "2d7cc0b0-90ff-4e1e-c8c7-7024c087e1ec"
      },
      "outputs": [
        {
          "output_type": "stream",
          "name": "stdout",
          "text": [
            "Classification report:\n",
            " \n",
            "                precision    recall  f1-score   support\n",
            "\n",
            "           0       0.91      0.91      0.91       558\n",
            "           1       0.91      0.91      0.91       556\n",
            "\n",
            "    accuracy                           0.91      1114\n",
            "   macro avg       0.91      0.91      0.91      1114\n",
            "weighted avg       0.91      0.91      0.91      1114\n",
            "\n"
          ]
        }
      ],
      "source": [
        "#To print classification_report\n",
        "print(\"Classification report:\\n \\n \", classification_report(y_val, rfc_cv.best_estimator_.predict(X_val)))"
      ]
    },
    {
      "cell_type": "markdown",
      "source": [
        "Inference:\n",
        "1. For this model the accuracy score is 0.91.\n",
        "2. The precision for a patient having 10-year risk of coronary heart disease (CHD) is 0.91 whereas for non-CHD patient is also 0.91.\n",
        "3. Recall for a patient having 10-year risk of coronary heart disease (CHD) is 0.91 whereas for non-CHD patient is also 0.91.\n",
        "4. The f1-score for a patient having a 10-year risk of coronary heart disease (CHD) and for a non-CHD patient is 0.91.\n",
        "5. The data tested for CHD patient is 556 and for the non-CHD patient is 558."
      ],
      "metadata": {
        "id": "CuO6nGbUqxDF"
      }
    },
    {
      "cell_type": "markdown",
      "metadata": {
        "id": "PH913y1proiG"
      },
      "source": [
        "### **Feature Importance**"
      ]
    },
    {
      "cell_type": "code",
      "execution_count": null,
      "metadata": {
        "id": "8KPPF5EPrveJ",
        "colab": {
          "base_uri": "https://localhost:8080/"
        },
        "outputId": "790bd8af-3510-430b-8617-484057c37826"
      },
      "outputs": [
        {
          "output_type": "stream",
          "name": "stdout",
          "text": [
            "Feature importance of best estimator: \n",
            " [0.14165518 0.01478537 0.03605265 0.09364127 0.02001049 0.00103893\n",
            " 0.01342504 0.00409284 0.11891429 0.13512786 0.10733153 0.09870003\n",
            " 0.11066575 0.10455878]\n"
          ]
        }
      ],
      "source": [
        "#Printing feature importance of best estimator\n",
        "print(\"Feature importance of best estimator: \\n\", rfc_cv.best_estimator_.feature_importances_)"
      ]
    },
    {
      "cell_type": "code",
      "execution_count": null,
      "metadata": {
        "id": "8oVJ255mt1xO",
        "colab": {
          "base_uri": "https://localhost:8080/",
          "height": 461
        },
        "outputId": "925aa257-db5b-494b-8d91-b8e23282d95b"
      },
      "outputs": [
        {
          "output_type": "display_data",
          "data": {
            "text/plain": [
              "<Figure size 720x432 with 1 Axes>"
            ],
            "image/png": "[encoded data removed]"
          },
          "metadata": {
            "needs_background": "light"
          }
        }
      ],
      "source": [
        "#Bar chart for feature importance\n",
        "\n",
        "importances = rfc_cv.best_estimator_.feature_importances_\n",
        "\n",
        "#Returning the index of sorted array (importances)\n",
        "indices = np.argsort(importances)[::-1]\n",
        "\n",
        "#Creating a list of features name\n",
        "names = [X_train.columns[i] for i in indices]\n",
        "\n",
        "#Create plot\n",
        "plt.figure(figsize = (10,6))\n",
        "\n",
        "#Create plot title\n",
        "plt.title(\"Feature Importance\", fontsize = 15)\n",
        "\n",
        "#Add bars\n",
        "plt.bar(range(X_train.shape[1]), importances[indices])\n",
        "\n",
        "#Add feature names as x-axis labels\n",
        "plt.xticks(range(X_train.shape[1]), names, rotation=90)\n",
        "plt.ylabel('Relative Importance', labelpad = 20, fontsize = 13)\n",
        "\n",
        "#Show plot\n",
        "plt.show()"
      ]
    },
    {
      "cell_type": "code",
      "execution_count": null,
      "metadata": {
        "id": "hQGay_yMsUus",
        "colab": {
          "base_uri": "https://localhost:8080/"
        },
        "outputId": "02aa9f11-04f7-4f41-c80e-2be7f3137cf8"
      },
      "outputs": [
        {
          "output_type": "stream",
          "name": "stdout",
          "text": [
            "Top 8 important features: \n",
            " ['age', 'sysBP', 'totChol', 'heartRate', 'diaBP', 'glucose', 'BMI', 'cigsPerDay']\n"
          ]
        }
      ],
      "source": [
        "#Get top 8 important features \n",
        "print(\"Top 8 important features: \\n\", names[0:8])"
      ]
    },
    {
      "cell_type": "code",
      "execution_count": null,
      "metadata": {
        "id": "FfSbbQkEse7X",
        "colab": {
          "base_uri": "https://localhost:8080/"
        },
        "outputId": "77568716-72ad-4632-f222-052340439a42"
      },
      "outputs": [
        {
          "output_type": "stream",
          "name": "stdout",
          "text": [
            "2 least important features: \n",
            " ['diabetes', 'prevalentStroke']\n"
          ]
        }
      ],
      "source": [
        "#Get least important features \n",
        "print(\"2 least important features: \\n\", names[-2:])"
      ]
    },
    {
      "cell_type": "code",
      "execution_count": null,
      "metadata": {
        "id": "AnNAchiTsBS1"
      },
      "outputs": [],
      "source": [
        "#Reduce test & validation set to 8 feature set\n",
        "train_imp_feature_rfc = X_train[names[0:8]]\n",
        "val_imp_feature_rfc = X_val[names[0:8]]"
      ]
    },
    {
      "cell_type": "code",
      "execution_count": null,
      "metadata": {
        "id": "HopGufFGriBi",
        "colab": {
          "base_uri": "https://localhost:8080/"
        },
        "outputId": "8360c2aa-05ef-4c68-acaf-3e25cdeaf50a"
      },
      "outputs": [
        {
          "output_type": "execute_result",
          "data": {
            "text/plain": [
              "RandomForestClassifier(max_depth=50, n_estimators=92, random_state=0)"
            ]
          },
          "metadata": {},
          "execution_count": 170
        }
      ],
      "source": [
        "#Clone the GridSearch model with its parameter and fit on reduced dataset\n",
        "cloned_model_rfc = clone(rfc_cv.best_estimator_)\n",
        "cloned_model_rfc.fit(train_imp_feature_rfc, y_train)"
      ]
    },
    {
      "cell_type": "code",
      "source": [
        "#create confusion matrix\n",
        "cm = confusion_matrix(y_val, cloned_model_rfc.predict(val_imp_feature_rfc))\n",
        "\n",
        "#create heatmap\n",
        "ax= plt.subplot()\n",
        "sns.heatmap(cm, annot=True, cmap=\"Reds\", fmt='g',ax = ax)\n",
        "\n",
        "#To display the title, xlabel and ylabel of confusion matrix\n",
        "ax.set_title('Confusion Matrix')\n",
        "ax.set_xlabel('Predicted labels')\n",
        "ax.set_ylabel('True labels')\n",
        "plt.show()"
      ],
      "metadata": {
        "colab": {
          "base_uri": "https://localhost:8080/",
          "height": 295
        },
        "id": "NcQChR3lDl3R",
        "outputId": "837da2d5-1f3a-408b-92d1-3fdbebc4538e"
      },
      "execution_count": null,
      "outputs": [
        {
          "output_type": "display_data",
          "data": {
            "text/plain": [
              "<Figure size 432x288 with 2 Axes>"
            ],
            "image/png": "[encoded data removed]"
          },
          "metadata": {
            "needs_background": "light"
          }
        }
      ]
    },
    {
      "cell_type": "code",
      "execution_count": null,
      "metadata": {
        "id": "NGhx82Wuh_v-",
        "colab": {
          "base_uri": "https://localhost:8080/"
        },
        "outputId": "87a1b301-0777-45d4-9556-b99c69826073"
      },
      "outputs": [
        {
          "output_type": "stream",
          "name": "stdout",
          "text": [
            "Evaluated metrics are:\n"
          ]
        },
        {
          "output_type": "execute_result",
          "data": {
            "text/plain": [
              "{'Accuracy': 0.8806104129263914,\n",
              " 'Precision': 0.8603066439522998,\n",
              " 'Recall': 0.908273381294964,\n",
              " 'f1_score': 0.8836395450568679,\n",
              " 'roc_auc_Score': 0.9551552306541864}"
            ]
          },
          "metadata": {},
          "execution_count": 172
        }
      ],
      "source": [
        "#Evaluated metrics\n",
        "print(\"Evaluated metrics are:\")\n",
        "evaluate_metrics(cloned_model_rfc, val_imp_feature_rfc, y_val)"
      ]
    },
    {
      "cell_type": "code",
      "execution_count": null,
      "metadata": {
        "id": "ohPTSJpdVlb5",
        "colab": {
          "base_uri": "https://localhost:8080/"
        },
        "outputId": "bb482422-ec68-44a8-ae21-f0f2edb974e2"
      },
      "outputs": [
        {
          "output_type": "stream",
          "name": "stdout",
          "text": [
            "Classification report:\n",
            " \n",
            "                precision    recall  f1-score   support\n",
            "\n",
            "           0       0.90      0.85      0.88       558\n",
            "           1       0.86      0.91      0.88       556\n",
            "\n",
            "    accuracy                           0.88      1114\n",
            "   macro avg       0.88      0.88      0.88      1114\n",
            "weighted avg       0.88      0.88      0.88      1114\n",
            "\n"
          ]
        }
      ],
      "source": [
        "#To print classification_report\n",
        "print(\"Classification report:\\n \\n \", classification_report(y_val, cloned_model_rfc.predict(val_imp_feature_rfc)))"
      ]
    },
    {
      "cell_type": "markdown",
      "source": [
        "Inference:\n",
        "1. Feature importance was not able to improve the performance of the tuned model as the accuracy score of the model drops from 0.91 to 0.88.\n",
        "2. No improvement in precision, recall, f1-score, and ROC-AUC score as compared to tuned model.\n",
        "3. We can observe from the confusion matrix, that the classifier prediction is performing badly after feature importance. Therefore, we will not consider feature importance in this model."
      ],
      "metadata": {
        "id": "BrkE5DIkde2L"
      }
    },
    {
      "cell_type": "markdown",
      "metadata": {
        "id": "kCb4A71cBu9A"
      },
      "source": [
        "# **3. Gradient Boosting Classifier**"
      ]
    },
    {
      "cell_type": "markdown",
      "metadata": {
        "id": "JOs4wQ7PwP5X"
      },
      "source": [
        "### **Hyperparameter finetuning using GridSearchCV**"
      ]
    },
    {
      "cell_type": "code",
      "execution_count": null,
      "metadata": {
        "id": "wDEpMZByB7a_",
        "colab": {
          "base_uri": "https://localhost:8080/"
        },
        "outputId": "887d2912-27af-4347-91a1-cecebb924083"
      },
      "outputs": [
        {
          "output_type": "execute_result",
          "data": {
            "text/plain": [
              "GridSearchCV(cv=5, estimator=GradientBoostingClassifier(random_state=0),\n",
              "             n_jobs=-1,\n",
              "             param_grid={'max_depth': [10, 20, 30, 50],\n",
              "                         'max_features': ['auto', 'sqrt', 'log2'],\n",
              "                         'n_estimators': [20, 35, 50, 100]})"
            ]
          },
          "metadata": {},
          "execution_count": 174
        }
      ],
      "source": [
        "#create the base model to tune\n",
        "gbc = GradientBoostingClassifier(random_state = 0)\n",
        "\n",
        "#Parameter Grid\n",
        "param_grid_gbc = {'n_estimators' : [20, 35, 50, 100], \n",
        "                  'max_depth' : [10, 20, 30, 50],\n",
        "                  'max_features' : ['auto', 'sqrt', 'log2']\n",
        "                  }\n",
        "                  \n",
        "#Instantiate the grid search model\n",
        "gbc_cv = GridSearchCV(estimator = gbc, param_grid = param_grid_gbc, cv = 5, n_jobs = -1)\n",
        "gbc_cv.fit(X_train, y_train)"
      ]
    },
    {
      "cell_type": "code",
      "execution_count": null,
      "metadata": {
        "id": "eyPpoVxfZONv",
        "colab": {
          "base_uri": "https://localhost:8080/"
        },
        "outputId": "90d59ad4-38a1-42e5-d2d3-ea044f357c36"
      },
      "outputs": [
        {
          "output_type": "stream",
          "name": "stdout",
          "text": [
            "Tuned parameter set:  {'max_depth': 50, 'max_features': 'sqrt', 'n_estimators': 100}\n"
          ]
        }
      ],
      "source": [
        "#Tuned parameter set for Gradient Boosting Classifier\n",
        "print(\"Tuned parameter set: \", gbc_cv.best_params_)"
      ]
    },
    {
      "cell_type": "code",
      "execution_count": null,
      "metadata": {
        "id": "3wIrCfOsedv1",
        "colab": {
          "base_uri": "https://localhost:8080/"
        },
        "outputId": "d810161c-b695-49ce-bffc-43dd7a3daa41"
      },
      "outputs": [
        {
          "output_type": "stream",
          "name": "stdout",
          "text": [
            "Best estimator for Gradient Boosting Classifier is:  GradientBoostingClassifier(max_depth=50, max_features='sqrt', random_state=0)\n"
          ]
        }
      ],
      "source": [
        "#Best estimator for Gradient Boosting Classifier\n",
        "print(\"Best estimator for Gradient Boosting Classifier is: \", gbc_cv.best_estimator_)"
      ]
    },
    {
      "cell_type": "code",
      "source": [
        "#create confusion matrix\n",
        "cm = confusion_matrix(y_val, gbc_cv.best_estimator_.predict(X_val))\n",
        "\n",
        "#create heatmap\n",
        "ax= plt.subplot()\n",
        "sns.heatmap(cm, annot=True, cmap=\"Reds\", fmt='g',ax = ax)\n",
        "\n",
        "#To display the title, xlabel and ylabel of confusion matrix\n",
        "ax.set_title('Confusion Matrix')\n",
        "ax.set_xlabel('Predicted labels')\n",
        "ax.set_ylabel('True labels')\n",
        "plt.show()"
      ],
      "metadata": {
        "id": "7XxAWRlHG3hv",
        "colab": {
          "base_uri": "https://localhost:8080/",
          "height": 295
        },
        "outputId": "4afc9447-f476-4cda-f68f-773b35c43c96"
      },
      "execution_count": null,
      "outputs": [
        {
          "output_type": "display_data",
          "data": {
            "text/plain": [
              "<Figure size 432x288 with 2 Axes>"
            ],
            "image/png": "[encoded data removed]"
          },
          "metadata": {
            "needs_background": "light"
          }
        }
      ]
    },
    {
      "cell_type": "markdown",
      "source": [
        "Inference:\n",
        "\n",
        "1. From the above heatmap, we can conclude that the classifier predicted 565 patients are having 10-year risk of CHD, out of which 514 patients were actually having 10-year risk of CHD and remaining 51 were non-CHD patients.\n",
        "\n",
        "2. The classifier predicted 549 patients are not having 10-year risk of CHD out of which 507 patients were actually not having 10-year risk of CHD and remaining 42 were CHD patients.\n"
      ],
      "metadata": {
        "id": "GHdsDRItDTG1"
      }
    },
    {
      "cell_type": "code",
      "source": [
        "#Evaluated metrics of validation set\n",
        "gbc_metrics = evaluate_metrics(gbc_cv.best_estimator_, X_val, y_val)\n",
        "print(\"Evaluated metrics are:\")\n",
        "gbc_metrics"
      ],
      "metadata": {
        "id": "4TDYY2doD2pI",
        "colab": {
          "base_uri": "https://localhost:8080/"
        },
        "outputId": "d58655b9-61c8-4ae2-9665-f14c8f1570c2"
      },
      "execution_count": null,
      "outputs": [
        {
          "output_type": "stream",
          "name": "stdout",
          "text": [
            "Evaluated metrics are:\n"
          ]
        },
        {
          "output_type": "execute_result",
          "data": {
            "text/plain": [
              "{'Accuracy': 0.9165170556552962,\n",
              " 'Precision': 0.9097345132743363,\n",
              " 'Recall': 0.9244604316546763,\n",
              " 'f1_score': 0.9170383586083855,\n",
              " 'roc_auc_Score': 0.9762415873752611}"
            ]
          },
          "metadata": {},
          "execution_count": 178
        }
      ]
    },
    {
      "cell_type": "markdown",
      "source": [
        "Inference:\n",
        "1. Best tuned parameters are 'max_depth' = 50, 'max_features' = 'sqrt',  'n_estimators' = 100.\n",
        "2. Improved validation set scores: \n",
        "   *  The validation set accuracy is 0.916 over 0.823, which was achieved using the untuned model.\n",
        "   * The validation set precision is 0.909 over 0.840, which was achieved using the untuned model.\n",
        "   *  The validation set recall score is 0.924 over 0.796, which was achieved using the untuned model.\n",
        "   * The validation set f1 score is 0.917 over 0.818, which was achieved using the untuned model.\n",
        "   * The validation set ROC_AUC_Score is 0.9762 over 0.904, which was achieved using the untuned model."
      ],
      "metadata": {
        "id": "WSBGuV9mLQNs"
      }
    },
    {
      "cell_type": "code",
      "execution_count": null,
      "metadata": {
        "id": "hsQWvcIgejg9",
        "colab": {
          "base_uri": "https://localhost:8080/"
        },
        "outputId": "717c7af5-661f-497f-8352-59b6e95bca19"
      },
      "outputs": [
        {
          "output_type": "stream",
          "name": "stdout",
          "text": [
            "Classification report:\n",
            " \n",
            "                precision    recall  f1-score   support\n",
            "\n",
            "           0       0.92      0.91      0.92       558\n",
            "           1       0.91      0.92      0.92       556\n",
            "\n",
            "    accuracy                           0.92      1114\n",
            "   macro avg       0.92      0.92      0.92      1114\n",
            "weighted avg       0.92      0.92      0.92      1114\n",
            "\n"
          ]
        }
      ],
      "source": [
        "#To print classification_report\n",
        "print(\"Classification report:\\n \\n \", classification_report(y_val, gbc_cv.best_estimator_.predict(X_val)))"
      ]
    },
    {
      "cell_type": "markdown",
      "source": [
        "Inference:\n",
        "1. For this model the accuracy score is 0.92.\n",
        "2. The precision for a patient having 10-year risk of coronary heart disease (CHD) is 0.91 whereas for non-CHD patient is 0.92.\n",
        "3. Recall for a patient having 10-year risk of coronary heart disease (CHD) is 0.92 whereas for non-CHD patient is 0.91.\n",
        "4. The f1-score for a patient having a 10-year risk of coronary heart disease (CHD) and for a non-CHD patient is 0.92.\n",
        "5. The data tested for CHD patient is 556 and for the non-CHD patient is 558."
      ],
      "metadata": {
        "id": "Q_GlbKIjrPiT"
      }
    },
    {
      "cell_type": "code",
      "source": [
        "#Appending the best hyperparameter and scores with tuned parameters in the compiled df\n",
        "compiled = compiled.append({\"Classifier\" : \"Gradient Boosting Classifier\",                             \n",
        "                            \"Accuracy\" : gbc_metrics[\"Accuracy\"],                             \n",
        "                            \"Precision\" : gbc_metrics[\"Precision\"],                             \n",
        "                            \"Recall\" : gbc_metrics[\"Recall\"],                            \n",
        "                            \"f1_score\" : gbc_metrics[\"f1_score\"],                           \n",
        "                            \"Roc_Auc_Score\" : gbc_metrics[\"roc_auc_Score\"],\n",
        "                            \"Best Hyperparameters\" : gbc_cv.best_params_ \n",
        "                             }, ignore_index = True)"
      ],
      "metadata": {
        "id": "rm3gM88bD2pL"
      },
      "execution_count": null,
      "outputs": []
    },
    {
      "cell_type": "markdown",
      "metadata": {
        "id": "TALr9G7cnAxO"
      },
      "source": [
        "### **Feature Importance**"
      ]
    },
    {
      "cell_type": "code",
      "execution_count": null,
      "metadata": {
        "id": "xlFivBe9nAxP",
        "colab": {
          "base_uri": "https://localhost:8080/"
        },
        "outputId": "f86128da-1b4f-4d4d-f2b2-96d51cd79579"
      },
      "outputs": [
        {
          "output_type": "stream",
          "name": "stdout",
          "text": [
            "Feature importance of best estimator: \n",
            " [0.13796749 0.0147781  0.04163252 0.09458087 0.01673708 0.00090729\n",
            " 0.01292815 0.00386279 0.12134306 0.13529487 0.10529414 0.09344075\n",
            " 0.1145954  0.10663748]\n"
          ]
        }
      ],
      "source": [
        "#Printing feature importance of best estimator\n",
        "print(\"Feature importance of best estimator: \\n\", gbc_cv.best_estimator_.feature_importances_)"
      ]
    },
    {
      "cell_type": "code",
      "execution_count": null,
      "metadata": {
        "id": "uHwhv8zVnAxP",
        "colab": {
          "base_uri": "https://localhost:8080/",
          "height": 461
        },
        "outputId": "fe63ce65-1e72-4150-dca7-7595c845dfd5"
      },
      "outputs": [
        {
          "output_type": "display_data",
          "data": {
            "text/plain": [
              "<Figure size 720x432 with 1 Axes>"
            ],
            "image/png": "[encoded data removed]"
          },
          "metadata": {
            "needs_background": "light"
          }
        }
      ],
      "source": [
        "#Bar chart for feature importance\n",
        "_importances_ = gbc_cv.best_estimator_.feature_importances_\n",
        "\n",
        "#Returning the index of sorted array (importances) \n",
        "_indices_ = np.argsort(_importances_)[::-1]\n",
        "\n",
        "#Creating a list of features name\n",
        "_names_ = [X_train.columns[i] for i in _indices_]\n",
        "\n",
        "#Create plot\n",
        "plt.figure(figsize = (10,6))\n",
        "\n",
        "#Create plot title\n",
        "plt.title(\"Feature Importance\", fontsize = 15)\n",
        "\n",
        "#Add bars\n",
        "plt.bar(range(X_train.shape[1]), _importances_[_indices_])\n",
        "\n",
        "#Add feature names as x-axis labels\n",
        "plt.xticks(range(X_train.shape[1]), _names_, rotation = 90)\n",
        "plt.ylabel('Relative Importance', labelpad = 20, fontsize = 13)\n",
        "\n",
        "#Show plot\n",
        "plt.show()"
      ]
    },
    {
      "cell_type": "code",
      "execution_count": null,
      "metadata": {
        "id": "sufuTj4jnAxQ",
        "colab": {
          "base_uri": "https://localhost:8080/"
        },
        "outputId": "c2a8dbf3-f6ad-4b5f-ce4f-96ec9f5b7f52"
      },
      "outputs": [
        {
          "output_type": "stream",
          "name": "stdout",
          "text": [
            "Top 8 important features: \n",
            " ['age', 'sysBP', 'totChol', 'heartRate', 'glucose', 'diaBP', 'cigsPerDay', 'BMI']\n"
          ]
        }
      ],
      "source": [
        "#Get top 8 important features \n",
        "print(\"Top 8 important features: \\n\", _names_[0:8])"
      ]
    },
    {
      "cell_type": "code",
      "execution_count": null,
      "metadata": {
        "id": "nJmduYCQnAxR",
        "colab": {
          "base_uri": "https://localhost:8080/"
        },
        "outputId": "58750d17-07df-41aa-9648-cecab1e6457e"
      },
      "outputs": [
        {
          "output_type": "stream",
          "name": "stdout",
          "text": [
            "2 least important features: \n",
            " ['diabetes', 'prevalentStroke']\n"
          ]
        }
      ],
      "source": [
        "#Get least important features \n",
        "print(\"2 least important features: \\n\", _names_[-2:])"
      ]
    },
    {
      "cell_type": "code",
      "execution_count": null,
      "metadata": {
        "id": "5sUld_VQnAxR"
      },
      "outputs": [],
      "source": [
        "#Reduce test & validation set to 8 feature set\n",
        "train_imp_feature_gbc = X_train[_names_[0:8]]\n",
        "val_imp_feature_gbc = X_val[_names_[0:8]]"
      ]
    },
    {
      "cell_type": "code",
      "execution_count": null,
      "metadata": {
        "id": "QatPnf0snAxS",
        "colab": {
          "base_uri": "https://localhost:8080/"
        },
        "outputId": "f52154ff-38e9-4601-9178-de161af88c0f"
      },
      "outputs": [
        {
          "output_type": "execute_result",
          "data": {
            "text/plain": [
              "GradientBoostingClassifier(max_depth=50, max_features='sqrt', random_state=0)"
            ]
          },
          "metadata": {},
          "execution_count": 186
        }
      ],
      "source": [
        "#Clone the GridSearch model with its parameter and fit on reduced dataset\n",
        "cloned_model_gbc = clone(gbc_cv.best_estimator_)\n",
        "cloned_model_gbc.fit(train_imp_feature_gbc, y_train)"
      ]
    },
    {
      "cell_type": "code",
      "source": [
        "#create confusion matrix\n",
        "cm = confusion_matrix(y_val, cloned_model_gbc.predict(val_imp_feature_gbc))\n",
        "\n",
        "#create heatmap\n",
        "ax= plt.subplot()\n",
        "sns.heatmap(cm, annot=True, cmap=\"Reds\", fmt='g',ax = ax)\n",
        "\n",
        "#To display the title, xlabel and ylabel of confusion matrix\n",
        "ax.set_title('Confusion Matrix')\n",
        "ax.set_xlabel('Predicted labels')\n",
        "ax.set_ylabel('True labels')\n",
        "plt.show()"
      ],
      "metadata": {
        "id": "32pQqm2qHeg0",
        "colab": {
          "base_uri": "https://localhost:8080/",
          "height": 295
        },
        "outputId": "e9481bdb-8dac-47c5-affa-ae65fa500e8a"
      },
      "execution_count": null,
      "outputs": [
        {
          "output_type": "display_data",
          "data": {
            "text/plain": [
              "<Figure size 432x288 with 2 Axes>"
            ],
            "image/png": "[encoded data removed]"
          },
          "metadata": {
            "needs_background": "light"
          }
        }
      ]
    },
    {
      "cell_type": "code",
      "execution_count": null,
      "metadata": {
        "id": "KUX-0VOwnAxT",
        "colab": {
          "base_uri": "https://localhost:8080/"
        },
        "outputId": "13a0a38d-11f5-4f12-ca90-551853c4f708"
      },
      "outputs": [
        {
          "output_type": "stream",
          "name": "stdout",
          "text": [
            "Evaluated metrics are:\n"
          ]
        },
        {
          "output_type": "execute_result",
          "data": {
            "text/plain": [
              "{'Accuracy': 0.8931777378815081,\n",
              " 'Precision': 0.878682842287695,\n",
              " 'Recall': 0.9118705035971223,\n",
              " 'f1_score': 0.8949691085613416,\n",
              " 'roc_auc_Score': 0.9637548026095252}"
            ]
          },
          "metadata": {},
          "execution_count": 188
        }
      ],
      "source": [
        "#Evaluated metrics \n",
        "print(\"Evaluated metrics are:\")\n",
        "evaluate_metrics(cloned_model_gbc, val_imp_feature_gbc, y_val)"
      ]
    },
    {
      "cell_type": "code",
      "execution_count": null,
      "metadata": {
        "id": "kBiSvcWQnAxS",
        "colab": {
          "base_uri": "https://localhost:8080/"
        },
        "outputId": "0efa792c-f8ae-4a29-9b80-17428405d1e8"
      },
      "outputs": [
        {
          "output_type": "stream",
          "name": "stdout",
          "text": [
            "Classification report:\n",
            " \n",
            "                precision    recall  f1-score   support\n",
            "\n",
            "           0       0.91      0.87      0.89       558\n",
            "           1       0.88      0.91      0.89       556\n",
            "\n",
            "    accuracy                           0.89      1114\n",
            "   macro avg       0.89      0.89      0.89      1114\n",
            "weighted avg       0.89      0.89      0.89      1114\n",
            "\n"
          ]
        }
      ],
      "source": [
        "#To print classification_report\n",
        "print(\"Classification report:\\n \\n \", classification_report(y_val, cloned_model_gbc.predict(val_imp_feature_gbc)))"
      ]
    },
    {
      "cell_type": "markdown",
      "source": [
        "Inference:\n",
        "1. Feature importance was not able to improve the performance of the tuned model as the accuracy score of the model drops from 0.92 to 0.89.\n",
        "2. No improvement in precision, recall, f1-score, and ROC-AUC score as compared to tuned model.\n",
        "3. We can observe from the confusion matrix, that the classifier prediction is performing badly after feature importance. Therefore, we will not consider feature importance in this model.\n"
      ],
      "metadata": {
        "id": "3LNJ3ZvMf4CV"
      }
    },
    {
      "cell_type": "markdown",
      "source": [
        "# **Stacking**"
      ],
      "metadata": {
        "id": "P7Fpp_PAOzoC"
      }
    },
    {
      "cell_type": "code",
      "source": [
        "#setting estimators\n",
        "estimators = [('ET', etc_cv.best_estimator_), ('GB', gbc_cv.best_estimator_ ), ('RF', rfc_cv.best_estimator_)]\n",
        "\n",
        "#create the base model to fit\n",
        "sc = StackingClassifier(estimators = estimators, final_estimator = gbc)\n",
        "sc.fit(X_train, y_train)"
      ],
      "metadata": {
        "id": "aDy_pDtCO8oO",
        "colab": {
          "base_uri": "https://localhost:8080/"
        },
        "outputId": "f22e9a12-b7b2-4d12-f293-a9b617f8e357"
      },
      "execution_count": null,
      "outputs": [
        {
          "output_type": "execute_result",
          "data": {
            "text/plain": [
              "StackingClassifier(estimators=[('ET',\n",
              "                                ExtraTreesClassifier(max_depth=50,\n",
              "                                                     n_estimators=112,\n",
              "                                                     random_state=0)),\n",
              "                               ('GB',\n",
              "                                GradientBoostingClassifier(max_depth=50,\n",
              "                                                           max_features='sqrt',\n",
              "                                                           random_state=0)),\n",
              "                               ('RF',\n",
              "                                RandomForestClassifier(max_depth=50,\n",
              "                                                       n_estimators=92,\n",
              "                                                       random_state=0))],\n",
              "                   final_estimator=GradientBoostingClassifier(random_state=0))"
            ]
          },
          "metadata": {},
          "execution_count": 190
        }
      ]
    },
    {
      "cell_type": "code",
      "source": [
        "#Evaluated metrics of validation set\n",
        "sc_metrics = evaluate_metrics(sc, X_val, y_val)\n",
        "print(\"Evaluated metrics are:\")\n",
        "sc_metrics"
      ],
      "metadata": {
        "id": "_jPnL1qfE79J",
        "colab": {
          "base_uri": "https://localhost:8080/"
        },
        "outputId": "658050a5-3896-4035-c508-29f2de72eb83"
      },
      "execution_count": null,
      "outputs": [
        {
          "output_type": "stream",
          "name": "stdout",
          "text": [
            "Evaluated metrics are:\n"
          ]
        },
        {
          "output_type": "execute_result",
          "data": {
            "text/plain": [
              "{'Accuracy': 0.9290843806104129,\n",
              " 'Precision': 0.9424860853432282,\n",
              " 'Recall': 0.9136690647482014,\n",
              " 'f1_score': 0.9278538812785387,\n",
              " 'roc_auc_Score': 0.9793342745158712}"
            ]
          },
          "metadata": {},
          "execution_count": 191
        }
      ]
    },
    {
      "cell_type": "code",
      "source": [
        "#create confusion matrix\n",
        "cm_sc = confusion_matrix(y_val, sc.predict(X_val))\n",
        "\n",
        "#create heatmap\n",
        "ax= plt.subplot()\n",
        "sns.heatmap(cm_sc, annot = True, cmap = \"Reds\", fmt = 'g', ax = ax)\n",
        "\n",
        "#To display the title, xlabel and ylabel of confusion matrix\n",
        "ax.set_title('Confusion Matrix')\n",
        "ax.set_xlabel('Predicted labels')\n",
        "ax.set_ylabel('True labels')\n",
        "plt.show()"
      ],
      "metadata": {
        "id": "ryqiWfWfzvvQ",
        "colab": {
          "base_uri": "https://localhost:8080/",
          "height": 295
        },
        "outputId": "fc81e28c-028c-4c3d-e709-5498a4bf0a89"
      },
      "execution_count": null,
      "outputs": [
        {
          "output_type": "display_data",
          "data": {
            "text/plain": [
              "<Figure size 432x288 with 2 Axes>"
            ],
            "image/png": "[encoded data removed]"
          },
          "metadata": {
            "needs_background": "light"
          }
        }
      ]
    },
    {
      "cell_type": "markdown",
      "source": [
        "Inference:\n",
        "\n",
        "1. From the above heatmap, we can conclude that the classifier predicted 539 patients are having 10-year risk of CHD, out of which 508 patients were actually having 10-year risk of CHD and remaining 31 were non-CHD patients.\n",
        "\n",
        "2. The classifier predicted 575 patients are not having 10-year risk of CHD out of which 527 patients were actually not having 10-year risk of CHD and remaining 48 were CHD patients."
      ],
      "metadata": {
        "id": "Yxc7n3nYNc1A"
      }
    },
    {
      "cell_type": "code",
      "source": [
        "#To print classification report\n",
        "print(\"Classification report:\\n \\n \", classification_report(y_val, sc.predict(X_val)))"
      ],
      "metadata": {
        "id": "Y8_V_rqVOQhK",
        "colab": {
          "base_uri": "https://localhost:8080/"
        },
        "outputId": "d2e09601-465d-489c-9e34-d95f80d186d0"
      },
      "execution_count": null,
      "outputs": [
        {
          "output_type": "stream",
          "name": "stdout",
          "text": [
            "Classification report:\n",
            " \n",
            "                precision    recall  f1-score   support\n",
            "\n",
            "           0       0.92      0.94      0.93       558\n",
            "           1       0.94      0.91      0.93       556\n",
            "\n",
            "    accuracy                           0.93      1114\n",
            "   macro avg       0.93      0.93      0.93      1114\n",
            "weighted avg       0.93      0.93      0.93      1114\n",
            "\n"
          ]
        }
      ]
    },
    {
      "cell_type": "markdown",
      "source": [
        "Inference:\n",
        "1. For this model the accuracy score is 0.93.\n",
        "2. The precision for a patient having 10-year risk of coronary heart disease (CHD) is 0.94 whereas for non-CHD patient is 0.92.\n",
        "3. Recall for a patient having 10-year risk of coronary heart disease (CHD) is 0.91 whereas for non-CHD patient is 0.94.\n",
        "4. The f1-score for a patient having a 10-year risk of coronary heart disease (CHD) and for a non-CHD patient is 0.93.\n",
        "5. The data tested for CHD patient is 556 and for the non-CHD patient is 558."
      ],
      "metadata": {
        "id": "FfDfykIUOEer"
      }
    },
    {
      "cell_type": "code",
      "source": [
        "#Appending the best hyperparameter and scores with tuned parameters in the compiled dataset\n",
        "compiled = compiled.append({\"Classifier\" : \"Stacking\",                             \n",
        "                            \"Accuracy\" : sc_metrics[\"Accuracy\"],                            \n",
        "                            \"Precision\" : sc_metrics[\"Precision\"],                             \n",
        "                            \"Recall\" : sc_metrics[\"Recall\"],                             \n",
        "                            \"f1_score\" : sc_metrics[\"f1_score\"],                            \n",
        "                            \"Roc_Auc_Score\" : sc_metrics[\"roc_auc_Score\"],\n",
        "                            \"Best Hyperparameters\" : \"NA\"\n",
        "                             }, ignore_index = True)"
      ],
      "metadata": {
        "id": "q4oqdOHrFvuv"
      },
      "execution_count": null,
      "outputs": []
    },
    {
      "cell_type": "markdown",
      "source": [
        "#**Comparing models performance**"
      ],
      "metadata": {
        "id": "PqopqQR14Rl0"
      }
    },
    {
      "cell_type": "code",
      "source": [
        "#Plotting a line chart to visualise the variation in model's performance\n",
        "\n",
        "#setting figure size\n",
        "plt.figure(figsize=(13, 8))\n",
        "\n",
        "#creating line chart \n",
        "plt.plot(compiled[\"Classifier\"], compiled[\"Accuracy\"], label='Accuracy')\n",
        "plt.plot(compiled[\"Classifier\"], compiled[\"Precision\"], label='Precision')\n",
        "plt.plot(compiled[\"Classifier\"], compiled[\"Recall\"], label='Recall')\n",
        "plt.plot(compiled[\"Classifier\"], compiled[\"f1_score\"], label='f1 Score')\n",
        "plt.plot(compiled[\"Classifier\"], compiled[\"Roc_Auc_Score\"], label='ROC-AUC Score')\n",
        "plt.legend()\n",
        "\n",
        "#To display the x label, y label and title of the line chart\n",
        "plt.xlabel(\"Classifiers\", labelpad=14, fontsize = 12)\n",
        "plt.ylabel(\"Scores\", labelpad=14, fontsize = 12)\n",
        "plt.title(\"Validation set scores varying with classifiers\", fontsize = 15)\n",
        "plt.show()"
      ],
      "metadata": {
        "id": "PQSAYbk4WPUO",
        "colab": {
          "base_uri": "https://localhost:8080/",
          "height": 528
        },
        "outputId": "ca565fd0-1d7e-40ae-8191-a59ee6118362"
      },
      "execution_count": null,
      "outputs": [
        {
          "output_type": "display_data",
          "data": {
            "text/plain": [
              "<Figure size 936x576 with 1 Axes>"
            ],
            "image/png": "[encoded data removed]"
          },
          "metadata": {
            "needs_background": "light"
          }
        }
      ]
    },
    {
      "cell_type": "code",
      "source": [
        "#To display all models performance in the compiled dataset\n",
        "compiled"
      ],
      "metadata": {
        "id": "lxwL0JaBFvux",
        "colab": {
          "base_uri": "https://localhost:8080/",
          "height": 175
        },
        "outputId": "ce86a654-94a2-4686-80b6-27fe00da9771"
      },
      "execution_count": null,
      "outputs": [
        {
          "output_type": "execute_result",
          "data": {
            "text/plain": [
              "                     Classifier  Accuracy  Precision    Recall  f1_score  \\\n",
              "0        Extra Trees Classifier  0.922801   0.916667  0.929856  0.923214   \n",
              "1      Random Forest Classifier  0.907540   0.906643  0.908273  0.907457   \n",
              "2  Gradient Boosting Classifier  0.916517   0.909735  0.924460  0.917038   \n",
              "3                      Stacking  0.929084   0.942486  0.913669  0.927854   \n",
              "\n",
              "   Roc_Auc_Score                               Best Hyperparameters  \n",
              "0       0.977602  {'max_depth': 50, 'max_features': 'auto', 'n_e...  \n",
              "1       0.968607  {'max_depth': 50, 'max_features': 'auto', 'n_e...  \n",
              "2       0.976242  {'max_depth': 50, 'max_features': 'sqrt', 'n_e...  \n",
              "3       0.979334                                                 NA  "
            ],
            "text/html": [
              "\n",
              "  <div id=\"df-8bc37969-d336-4ed0-a321-86bffa219e95\">\n",
              "    <div class=\"colab-df-container\">\n",
              "      <div>\n",
              "<style scoped>\n",
              "    .dataframe tbody tr th:only-of-type {\n",
              "        vertical-align: middle;\n",
              "    }\n",
              "\n",
              "    .dataframe tbody tr th {\n",
              "        vertical-align: top;\n",
              "    }\n",
              "\n",
              "    .dataframe thead th {\n",
              "        text-align: right;\n",
              "    }\n",
              "</style>\n",
              "<table border=\"1\" class=\"dataframe\">\n",
              "  <thead>\n",
              "    <tr style=\"text-align: right;\">\n",
              "      <th></th>\n",
              "      <th>Classifier</th>\n",
              "      <th>Accuracy</th>\n",
              "      <th>Precision</th>\n",
              "      <th>Recall</th>\n",
              "      <th>f1_score</th>\n",
              "      <th>Roc_Auc_Score</th>\n",
              "      <th>Best Hyperparameters</th>\n",
              "    </tr>\n",
              "  </thead>\n",
              "  <tbody>\n",
              "    <tr>\n",
              "      <th>0</th>\n",
              "      <td>Extra Trees Classifier</td>\n",
              "      <td>0.922801</td>\n",
              "      <td>0.916667</td>\n",
              "      <td>0.929856</td>\n",
              "      <td>0.923214</td>\n",
              "      <td>0.977602</td>\n",
              "      <td>{'max_depth': 50, 'max_features': 'auto', 'n_e...</td>\n",
              "    </tr>\n",
              "    <tr>\n",
              "      <th>1</th>\n",
              "      <td>Random Forest Classifier</td>\n",
              "      <td>0.907540</td>\n",
              "      <td>0.906643</td>\n",
              "      <td>0.908273</td>\n",
              "      <td>0.907457</td>\n",
              "      <td>0.968607</td>\n",
              "      <td>{'max_depth': 50, 'max_features': 'auto', 'n_e...</td>\n",
              "    </tr>\n",
              "    <tr>\n",
              "      <th>2</th>\n",
              "      <td>Gradient Boosting Classifier</td>\n",
              "      <td>0.916517</td>\n",
              "      <td>0.909735</td>\n",
              "      <td>0.924460</td>\n",
              "      <td>0.917038</td>\n",
              "      <td>0.976242</td>\n",
              "      <td>{'max_depth': 50, 'max_features': 'sqrt', 'n_e...</td>\n",
              "    </tr>\n",
              "    <tr>\n",
              "      <th>3</th>\n",
              "      <td>Stacking</td>\n",
              "      <td>0.929084</td>\n",
              "      <td>0.942486</td>\n",
              "      <td>0.913669</td>\n",
              "      <td>0.927854</td>\n",
              "      <td>0.979334</td>\n",
              "      <td>NA</td>\n",
              "    </tr>\n",
              "  </tbody>\n",
              "</table>\n",
              "</div>\n",
              "      <button class=\"colab-df-convert\" onclick=\"convertToInteractive('df-8bc37969-d336-4ed0-a321-86bffa219e95')\"\n",
              "              title=\"Convert this dataframe to an interactive table.\"\n",
              "              style=\"display:none;\">\n",
              "        \n",
              "  <svg xmlns=\"http://www.w3.org/2000/svg\" height=\"24px\"viewBox=\"0 0 24 24\"\n",
              "       width=\"24px\">\n",
              "    <path d=\"M0 0h24v24H0V0z\" fill=\"none\"/>\n",
              "    <path d=\"M18.56 5.44l.94 2.06.94-2.06 2.06-.94-2.06-.94-.94-2.06-.94 2.06-2.06.94zm-11 1L8.5 8.5l.94-2.06 2.06-.94-2.06-.94L8.5 2.5l-.94 2.06-2.06.94zm10 10l.94 2.06.94-2.06 2.06-.94-2.06-.94-.94-2.06-.94 2.06-2.06.94z\"/><path d=\"M17.41 7.96l-1.37-1.37c-.4-.4-.92-.59-1.43-.59-.52 0-1.04.2-1.43.59L10.3 9.45l-7.72 7.72c-.78.78-.78 2.05 0 2.83L4 21.41c.39.39.9.59 1.41.59.51 0 1.02-.2 1.41-.59l7.78-7.78 2.81-2.81c.8-.78.8-2.07 0-2.86zM5.41 20L4 18.59l7.72-7.72 1.47 1.35L5.41 20z\"/>\n",
              "  </svg>\n",
              "      </button>\n",
              "      \n",
              "  <style>\n",
              "    .colab-df-container {\n",
              "      display:flex;\n",
              "      flex-wrap:wrap;\n",
              "      gap: 12px;\n",
              "    }\n",
              "\n",
              "    .colab-df-convert {\n",
              "      background-color: #E8F0FE;\n",
              "      border: none;\n",
              "      border-radius: 50%;\n",
              "      cursor: pointer;\n",
              "      display: none;\n",
              "      fill: #1967D2;\n",
              "      height: 32px;\n",
              "      padding: 0 0 0 0;\n",
              "      width: 32px;\n",
              "    }\n",
              "\n",
              "    .colab-df-convert:hover {\n",
              "      background-color: #E2EBFA;\n",
              "      box-shadow: 0px 1px 2px rgba(60, 64, 67, 0.3), 0px 1px 3px 1px rgba(60, 64, 67, 0.15);\n",
              "      fill: #174EA6;\n",
              "    }\n",
              "\n",
              "    [theme=dark] .colab-df-convert {\n",
              "      background-color: #3B4455;\n",
              "      fill: #D2E3FC;\n",
              "    }\n",
              "\n",
              "    [theme=dark] .colab-df-convert:hover {\n",
              "      background-color: #434B5C;\n",
              "      box-shadow: 0px 1px 3px 1px rgba(0, 0, 0, 0.15);\n",
              "      filter: drop-shadow(0px 1px 2px rgba(0, 0, 0, 0.3));\n",
              "      fill: #FFFFFF;\n",
              "    }\n",
              "  </style>\n",
              "\n",
              "      <script>\n",
              "        const buttonEl =\n",
              "          document.querySelector('#df-8bc37969-d336-4ed0-a321-86bffa219e95 button.colab-df-convert');\n",
              "        buttonEl.style.display =\n",
              "          google.colab.kernel.accessAllowed ? 'block' : 'none';\n",
              "\n",
              "        async function convertToInteractive(key) {\n",
              "          const element = document.querySelector('#df-8bc37969-d336-4ed0-a321-86bffa219e95');\n",
              "          const dataTable =\n",
              "            await google.colab.kernel.invokeFunction('convertToInteractive',\n",
              "                                                     [key], {});\n",
              "          if (!dataTable) return;\n",
              "\n",
              "          const docLinkHtml = 'Like what you see? Visit the ' +\n",
              "            '<a target=\"_blank\" href=https://colab.research.google.com/notebooks/data_table.ipynb>data table notebook</a>'\n",
              "            + ' to learn more about interactive tables.';\n",
              "          element.innerHTML = '';\n",
              "          dataTable['output_type'] = 'display_data';\n",
              "          await google.colab.output.renderOutput(dataTable, element);\n",
              "          const docLink = document.createElement('div');\n",
              "          docLink.innerHTML = docLinkHtml;\n",
              "          element.appendChild(docLink);\n",
              "        }\n",
              "      </script>\n",
              "    </div>\n",
              "  </div>\n",
              "  "
            ]
          },
          "metadata": {},
          "execution_count": 196
        }
      ]
    },
    {
      "cell_type": "markdown",
      "source": [
        "Inference:\n",
        "\n",
        "1. Accuracy, precision, f1 score, and ROC-AUC score are high for stacking.\n",
        "\n",
        "2. Recall is high for extra trees classifier."
      ],
      "metadata": {
        "id": "K3XBQuHLzYJW"
      }
    },
    {
      "cell_type": "markdown",
      "source": [
        "# **Conclusion**"
      ],
      "metadata": {
        "id": "_1OUgC7Wy7vY"
      }
    },
    {
      "cell_type": "markdown",
      "source": [
        "1. Out of 3 selected models, the extra trees classifier was found to be the best performing. \n",
        "\n",
        "2. Further feature reduction in any of the selected models didn't add to the scores.\n",
        "\n",
        "3. Stacking, on the other hand, surpassed the performance of selected models.\n",
        "4. The final model had 11 features.\n",
        "\n",
        "5. The best algorithm to use for this dataset is stacking, as the best results for the validation set are given by stacking with an accuracy of 0.93 and a ROC-AUC score of 0.98. \n",
        "\n",
        "6. Stacking predicted that 539/1114 patients have a 10-year risk of future CHD and 575/1114 patients don’t. The precision, recall, and f1-score for a patient having a 10-year risk of future CHD are 0.94, 0.91, and 0.93, respectively, whereas for non-CHD patients are 0.92, 0.94, and 0.93, respectively.\n"
      ],
      "metadata": {
        "id": "kNZxkEpy09zz"
      }
    }
  ],
  "metadata": {
    "colab": {
      "collapsed_sections": [],
      "name": "Cardiovascular Risk Prediction.ipynb",
      "provenance": [],
      "include_colab_link": true
    },
    "kernelspec": {
      "display_name": "Python 3",
      "name": "python3"
    },
    "language_info": {
      "name": "python"
    }
  },
  "nbformat": 4,
  "nbformat_minor": 0
}